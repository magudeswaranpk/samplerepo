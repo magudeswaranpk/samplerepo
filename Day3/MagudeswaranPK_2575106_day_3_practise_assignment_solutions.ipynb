{
  "nbformat": 4,
  "nbformat_minor": 0,
  "metadata": {
    "colab": {
      "provenance": []
    },
    "kernelspec": {
      "name": "python3",
      "display_name": "Python 3"
    },
    "language_info": {
      "name": "python"
    }
  },
  "cells": [
    {
      "cell_type": "markdown",
      "source": [],
      "metadata": {
        "id": "tK_lr6DExfAY"
      }
    },
    {
      "cell_type": "markdown",
      "source": [
        "# 1. Write a python function that copies a file reading and writing up to 50 characters at a time."
      ],
      "metadata": {
        "id": "ajkaqkEUxgpw"
      }
    },
    {
      "cell_type": "code",
      "source": [
        "File=open('demo.txt','r')\n",
        "\n",
        "def copy_file(input_file_path, output_file_path):\n",
        "    try:\n",
        "        with open(input_file_path, 'rb') as input_file, open(output_file_path, 'wb') as output_file:\n",
        "            while True:\n",
        "                chunk = input_file.read(50)\n",
        "                if not chunk:\n",
        "                    break\n",
        "                output_file.write(chunk)\n",
        "        print(\"File copied successfully.\")\n",
        "    except FileNotFoundError:\n",
        "        print(\"File not found.\")\n",
        "    except Exception as e:\n",
        "        print(\"An error occurred:\", str(e))\n",
        "\n",
        "input_file_path = 'demo.txt'\n",
        "output_file_path = 'output.txt'\n",
        "copy_file(input_file_path, output_file_path)\n"
      ],
      "metadata": {
        "colab": {
          "base_uri": "https://localhost:8080/"
        },
        "id": "mYsbjxCj4JBK",
        "outputId": "0ddc4102-a3e4-4643-f107-8b8b1d39bb1f"
      },
      "execution_count": null,
      "outputs": [
        {
          "output_type": "stream",
          "name": "stdout",
          "text": [
            "File copied successfully.\n"
          ]
        }
      ]
    },
    {
      "cell_type": "markdown",
      "source": [
        "# 2. Print all numbers present in the text file and print the number of blank spaces in that file.\n"
      ],
      "metadata": {
        "id": "kqXN-QKn5ozf"
      }
    },
    {
      "cell_type": "code",
      "source": [
        "\n",
        "\n",
        "def count_numbers_and_blank_spaces(file_path):\n",
        "    try:\n",
        "        with open(file_path, 'r') as file:\n",
        "            text = file.read()\n",
        "\n",
        "\n",
        "            number_count = 0\n",
        "            blank_space_count = 0\n",
        "\n",
        "\n",
        "            for char in text:\n",
        "                if char.isdigit():\n",
        "                    number_count += 1\n",
        "                elif char.isspace():\n",
        "                    blank_space_count += 1\n",
        "\n",
        "            print(f\"Numbers found in the file: {number_count}\")\n",
        "            print(f\"Blank spaces found in the file: {blank_space_count}\")\n",
        "    except FileNotFoundError:\n",
        "        print(\"File not found.\")\n",
        "    except Exception as e:\n",
        "        print(\"An error occurred:\", str(e))\n",
        "\n",
        "file_path = 'demo.txt'\n",
        "count_numbers_and_blank_spaces(file_path)\n"
      ],
      "metadata": {
        "colab": {
          "base_uri": "https://localhost:8080/"
        },
        "id": "wjItuR-25xj9",
        "outputId": "190e1905-9753-4f5d-e15d-a265a10d593d"
      },
      "execution_count": null,
      "outputs": [
        {
          "output_type": "stream",
          "name": "stdout",
          "text": [
            "Numbers found in the file: 140\n",
            "Blank spaces found in the file: 276\n"
          ]
        }
      ]
    },
    {
      "cell_type": "markdown",
      "source": [
        "# 3. Write a function called sed that takes as arguments a pattern string, a replacement string. and two filenames; it should read the first file and write the contents into the second file (creating it if necessary). If the pattern string appears anywhere in the file, it should be replaced with the replacement string. If an error occurs while opening, reading, writing, or closing files, your program should catch the exception, print an error message, and exit."
      ],
      "metadata": {
        "id": "6HD9SLznAVqC"
      }
    },
    {
      "cell_type": "code",
      "source": [
        "def sed(pattern, replacement, input_file, output_file):\n",
        "    try:\n",
        "        with open(input_file, 'r') as infile:\n",
        "            file_content = infile.read()\n",
        "\n",
        "        modified_content = file_content.replace(pattern, replacement)\n",
        "\n",
        "        with open(output_file, 'w') as outfile:\n",
        "            outfile.write(modified_content)\n",
        "\n",
        "        print(f\"File '{input_file}' processed successfully. Result written to '{output_file}'.\")\n",
        "\n",
        "    except FileNotFoundError:\n",
        "        print(f\"Error: File '{input_file}' not found.\")\n",
        "    except Exception as e:\n",
        "        print(f\"An error occurred: {str(e)}\")\n",
        "\n",
        "\n",
        "pattern = \"old_pattern\"\n",
        "replacement = \"new_pattern\"\n",
        "input_file = \"demo.txt\"\n",
        "output_file = \"output.txt\"\n",
        "\n",
        "sed(pattern, replacement, input_file, output_file)\n"
      ],
      "metadata": {
        "colab": {
          "base_uri": "https://localhost:8080/"
        },
        "id": "Fst3mzFiBRd3",
        "outputId": "804285e8-c545-47d6-d717-75f8401f2361"
      },
      "execution_count": null,
      "outputs": [
        {
          "output_type": "stream",
          "name": "stdout",
          "text": [
            "File 'demo.txt' processed successfully. Result written to 'output.txt'.\n"
          ]
        }
      ]
    },
    {
      "cell_type": "markdown",
      "source": [
        "# 4. Log File Analysis: You have a log file containing records of user activities on a website. Each line in the file represents a log entry with details like timestamp, user ID, and action performed. Your task is to analyze this log file.\n",
        "\n",
        "# a. Write Python code to read the log file and extract specific information, such as the number of unique users or the most common action.\n",
        "\n",
        "# b. How would you handle large log files efficiently without loading the entire file into memory?"
      ],
      "metadata": {
        "id": "b541NxyGCAoi"
      }
    },
    {
      "cell_type": "code",
      "source": [
        "def analyze_log_file(log_file_path):\n",
        "    try:\n",
        "        with open(log_file_path, 'r') as log_file:\n",
        "            log_entries = log_file.readlines()\n",
        "\n",
        "        unique_users = set()\n",
        "        action_counts = {}\n",
        "\n",
        "        for entry in log_entries:\n",
        "            parts = entry.strip().split(',')\n",
        "            if len(parts) >= 3:\n",
        "                timestamp, user_id, action = parts[0], parts[1], parts[2]\n",
        "                unique_users.add(user_id)\n",
        "\n",
        "                if action in action_counts:\n",
        "                    action_counts[action] += 1\n",
        "                else:\n",
        "                    action_counts[action] = 1\n",
        "\n",
        "        print(f\"Number of unique users: {len(unique_users)}\")\n",
        "        most_common_action = max(action_counts, key=action_counts.get)\n",
        "        print(f\"Most common action: {most_common_action} ({action_counts[most_common_action]} times)\")\n",
        "\n",
        "    except FileNotFoundError:\n",
        "        print(\"Error: Log file not found.\")\n",
        "    except Exception as e:\n",
        "        print(f\"An error occurred: {str(e)}\")\n",
        "\n",
        "\n",
        "log_file_path = '/content/logfile.txt'\n",
        "analyze_log_file(log_file_path)\n",
        "\n",
        "\n",
        "\n",
        "def analyze_log_file(log_file_path):\n",
        "    try:\n",
        "        def log_entries_generator():\n",
        "            with open(log_file_path, 'r') as log_file:\n",
        "                for line in log_file:\n",
        "                    yield line\n",
        "\n",
        "        unique_users = set()\n",
        "        action_counts = {}\n",
        "\n",
        "        for entry in log_entries_generator():\n",
        "            parts = entry.strip().split(',')\n",
        "            if len(parts) >= 3:\n",
        "                timestamp, user_id, action = parts[0], parts[1], parts[2]\n",
        "                unique_users.add(user_id)\n",
        "\n",
        "                if action in action_counts:\n",
        "                    action_counts[action] += 1\n",
        "                else:\n",
        "                    action_counts[action] = 1\n",
        "\n",
        "        print(f\"Number of unique users: {len(unique_users)}\")\n",
        "        most_common_action = max(action_counts, key=action_counts.get)\n",
        "        print(f\"Most common action: {most_common_action} ({action_counts[most_common_action]} times)\")\n",
        "\n",
        "    except FileNotFoundError:\n",
        "        print(\"Error: Log file not found.\")\n",
        "    except Exception as e:\n",
        "        print(f\"An error occurred: {str(e)}\")\n",
        "\n",
        "\n",
        "log_file_path = '/content/logfile.txt'\n",
        "analyze_log_file(log_file_path)\n"
      ],
      "metadata": {
        "id": "rakDro4eFxxu",
        "colab": {
          "base_uri": "https://localhost:8080/"
        },
        "outputId": "9580f76b-5245-4e66-b1bc-848039abd6ea"
      },
      "execution_count": null,
      "outputs": [
        {
          "output_type": "stream",
          "name": "stdout",
          "text": [
            "Number of unique users: 1\n",
            "Most common action:  branch=c5558820f367665758d4d719b7553a02ff4954e0 (3 times)\n",
            "Number of unique users: 1\n",
            "Most common action:  branch=c5558820f367665758d4d719b7553a02ff4954e0 (3 times)\n"
          ]
        }
      ]
    },
    {
      "cell_type": "markdown",
      "source": [
        "# 5. Text File Search and Replace: You have a text file with a large amount of text, and you want to search for specific words or phrases and replace them with new content.\n",
        "\n",
        "# a. Write Python code to search for and replace text within a text file.\n",
        "\n",
        "# b. How would you handle cases where you need to perform multiple replacements in a single pass?\n"
      ],
      "metadata": {
        "id": "zyAeN8mXHjQE"
      }
    },
    {
      "cell_type": "code",
      "source": [
        "\n",
        "search_text = \"by\"\n",
        "\n",
        "replace_text = \"by (replaced)\"\n",
        "\n",
        "with open(r'Sample.txt', 'r') as file:\n",
        "    data = file.read()\n",
        "    data = data.replace(search_text, replace_text)\n",
        "\n",
        "with open(r'Sample.txt', 'w') as file:\n",
        "    file.write(data)\n",
        "print(\"Text replaced\")\n",
        "\n",
        "\n",
        "test_str = \"abbabba\"\n",
        "print(\"The original string is : \" + str(test_str))\n",
        "new_str = ''.join(['a' if char == 'b' else 'b' if char == 'a' else char for char in test_str])\n",
        "\n",
        "print(\"The string after replacement of positions : \" +new_str)"
      ],
      "metadata": {
        "colab": {
          "base_uri": "https://localhost:8080/"
        },
        "id": "a4fD4b5gJp3y",
        "outputId": "fdc016a3-3633-43b8-d4d1-c8d3a1f305f6"
      },
      "execution_count": null,
      "outputs": [
        {
          "output_type": "stream",
          "name": "stdout",
          "text": [
            "Text replaced\n",
            "The original string is : abbabba\n",
            "The string after replacement of positions : baabaab\n"
          ]
        }
      ]
    },
    {
      "cell_type": "markdown",
      "source": [
        "# 6. Write a Python script that concatenates the contents of multiple text files into a single output file. Allow the user to specify the input files and the output file."
      ],
      "metadata": {
        "id": "EfMDxidsKonJ"
      }
    },
    {
      "cell_type": "code",
      "source": [
        "file=open(\"file1.txt\",\"x\")\n",
        "file=open(\"file2.txt\",\"x\")\n",
        "file=open(\"file3.txt\",\"x\")\n",
        "def concatenate_files(input_files, output_file):\n",
        "    try:\n",
        "        with open(output_file, 'w') as output:\n",
        "            for input_file in input_files:\n",
        "                with open(input_file, 'r') as file:\n",
        "                    output.write(file.read())\n",
        "\n",
        "        print(f\"Concatenation complete. Output written to {output_file}\")\n",
        "\n",
        "    except FileNotFoundError:\n",
        "        print(\"One or more input files not found.\")\n",
        "    except Exception as e:\n",
        "        print(f\"An error occurred: {str(e)}\")\n",
        "\n",
        "input_files = ['file1.txt', 'file2.txt', 'file3.txt']\n",
        "output_file = 'output.txt'\n",
        "\n",
        "concatenate_files(input_files, output_file)"
      ],
      "metadata": {
        "colab": {
          "base_uri": "https://localhost:8080/"
        },
        "id": "FxZDV6xOKvL-",
        "outputId": "c0026dcc-cbe0-416d-9a26-6ca1f8f47f24"
      },
      "execution_count": null,
      "outputs": [
        {
          "output_type": "stream",
          "name": "stdout",
          "text": [
            "Concatenation complete. Output written to output.txt\n"
          ]
        }
      ]
    },
    {
      "cell_type": "markdown",
      "source": [
        "# 7. You are given a text file named input.txt containing a list of words, one word per line. Your task is to create a Python program that reads the contents of input.txt, processes the words, and writes the result to an output file named output.txt.\n",
        "\n",
        "a. The program should perform the following operations:\n",
        "\n",
        "Read the words from input.txt.\n",
        "\n",
        "ii. For each word in the input file, calculate the length of the word and store.it\n",
        "\n",
        "in a dictionary where the word is the key, and the length is the value. iii. Write the word-length dictionary to output.txt in the following format:\n",
        "\n",
        "Word1: Length1\n",
        "\n",
        "Word2: Length?\n",
        "\n",
        "iv. Close both input and output files properly.\n",
        "\n",
        "v. Write Python code to accomplish this task. Ensure proper error handling for file operations.\n"
      ],
      "metadata": {
        "id": "Ze6ulhzRLrMk"
      }
    },
    {
      "cell_type": "code",
      "source": [
        "\n",
        "strings = []\n",
        "for i in range(4):\n",
        "    user_input = input(f\"Enter string {i + 1}: \")\n",
        "    strings.append(user_input)\n",
        "\n",
        "\n",
        "file_path = \"input.txt\"\n",
        "\n",
        "try:\n",
        "    with open(file_path, 'w') as file:\n",
        "        for string in strings:\n",
        "            file.write(string + '\\n')\n",
        "        print(f\"The strings have been written to '{file_path}' successfully.\")\n",
        "\n",
        "\n",
        "    with open(file_path, 'r') as file:\n",
        "\n",
        "        for line in file:\n",
        "            string_length = len(line.strip())\n",
        "            print(f\"Length of '{line.strip()}': {string_length}\")\n",
        "\n",
        "except Exception as e:\n",
        "    print(f\"An error occurred: {str(e)}\")\n",
        "\n",
        "\n"
      ],
      "metadata": {
        "colab": {
          "base_uri": "https://localhost:8080/"
        },
        "id": "piLbhhPPM_wz",
        "outputId": "0b6c204f-b20c-49bf-bb8d-99baf0ec292d"
      },
      "execution_count": null,
      "outputs": [
        {
          "output_type": "stream",
          "name": "stdout",
          "text": [
            "Enter string 1: apple\n",
            "Enter string 2: banana\n",
            "Enter string 3: cherry\n",
            "Enter string 4: date\n",
            "The strings have been written to 'input.txt' successfully.\n",
            "Length of 'apple': 5\n",
            "Length of 'banana': 6\n",
            "Length of 'cherry': 6\n",
            "Length of 'date': 4\n"
          ]
        }
      ]
    },
    {
      "cell_type": "markdown",
      "source": [
        "# 8. Assume that you are developing a student gradebook system for a school. The system should allow teachers to input student grades for various subjects, store the data in files, and provide students with the ability to view their grades.\n",
        "# **Design a Python program that accomplishes the following tasks:**\n",
        "\n",
        "i. Teachers should be able to input grades for students in different subjects.\n",
        "\n",
        "ii. Store the student grade data in separate text files for each subject.\n",
        "\n",
        "iii. Students should be able to view their grades for each subject.\n",
        "\n",
        "iv. Implement error handling for file operations, such as file not found or permission issues."
      ],
      "metadata": {
        "id": "B9mrN7j4T6-v"
      }
    },
    {
      "cell_type": "code",
      "source": [
        "import os\n",
        "\n",
        "def input_grades(subject):\n",
        "    try:\n",
        "        with open(f\"{subject}.txt\", \"a\") as file:\n",
        "            while True:\n",
        "                student_name = input(\"Enter student name (or 'done' to finish): \")\n",
        "                if student_name.lower() == \"done\":\n",
        "                    break\n",
        "                grade = input(f\"Enter {student_name}'s grade for {subject}: \")\n",
        "                file.write(f\"{student_name}: {grade}\\n\")\n",
        "        print(f\"Grades for {subject} have been recorded successfully.\")\n",
        "    except Exception as e:\n",
        "        print(f\"An error occurred: {str(e)}\")\n",
        "\n",
        "def view_grades(subject):\n",
        "    try:\n",
        "        with open(f\"{subject}.txt\", \"r\") as file:\n",
        "            print(f\"Grades for {subject}:\")\n",
        "            for line in file:\n",
        "                print(line.strip())\n",
        "    except FileNotFoundError:\n",
        "        print(f\"Grades for {subject} not found.\")\n",
        "    except Exception as e:\n",
        "        print(f\"An error occurred: {str(e)}\")\n",
        "\n",
        "while True:\n",
        "    print(\"\\nStudent Gradebook System\")\n",
        "    print(\"1. Input Grades\")\n",
        "    print(\"2. View Grades\")\n",
        "    print(\"3. Exit\")\n",
        "\n",
        "    choice = input(\"Select an option (1/2/3): \")\n",
        "\n",
        "    if choice == \"1\":\n",
        "        subject = input(\"Enter the subject name: \")\n",
        "        input_grades(subject)\n",
        "    elif choice == \"2\":\n",
        "        subject = input(\"Enter the subject name: \")\n",
        "        view_grades(subject)\n",
        "    elif choice == \"3\":\n",
        "        break\n",
        "    else:\n",
        "        print(\"Invalid choice. Please select 1, 2, or 3.\")\n",
        "\n"
      ],
      "metadata": {
        "colab": {
          "base_uri": "https://localhost:8080/"
        },
        "id": "A_NL0dYVVdZb",
        "outputId": "d0c1b96c-5f46-473f-d24b-4de68a89c6e3"
      },
      "execution_count": null,
      "outputs": [
        {
          "name": "stdout",
          "output_type": "stream",
          "text": [
            "\n",
            "Student Gradebook System\n",
            "1. Input Grades\n",
            "2. View Grades\n",
            "3. Exit\n",
            "Select an option (1/2/3): 3\n"
          ]
        }
      ]
    }
  ]
}