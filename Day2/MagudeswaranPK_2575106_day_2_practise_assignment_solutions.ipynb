{
  "nbformat": 4,
  "nbformat_minor": 0,
  "metadata": {
    "colab": {
      "provenance": []
    },
    "kernelspec": {
      "name": "python3",
      "display_name": "Python 3"
    },
    "language_info": {
      "name": "python"
    }
  },
  "cells": [
    {
      "cell_type": "markdown",
      "source": [
        "# 1. Write a python function to list even and odd numbers in a list."
      ],
      "metadata": {
        "id": "dXeVbgs5pkVN"
      }
    },
    {
      "cell_type": "code",
      "source": [
        "\n",
        "my_list = [1, 2, 3, 4, 5, 6, 7, 8, 9]\n",
        "even, odd = list_even_and_odd_numbers(my_list)\n",
        "\n",
        "print(\"Even numbers:\", even)\n",
        "print(\"Odd numbers:\", odd)"
      ],
      "metadata": {
        "colab": {
          "base_uri": "https://localhost:8080/"
        },
        "id": "yuH6zoQSqd_S",
        "outputId": "74c8793b-5a82-4cca-b4da-0cc87c3faeb2"
      },
      "execution_count": null,
      "outputs": [
        {
          "output_type": "stream",
          "name": "stdout",
          "text": [
            "Even numbers: [2, 4, 6, 8]\n",
            "Odd numbers: [1, 3, 5, 7, 9]\n"
          ]
        }
      ]
    },
    {
      "cell_type": "markdown",
      "source": [
        "# 2. Write and run a python program that asks the user to enter 8 integers (one at a time), and then prints out how many of those integers were even numbers. For example, if the user entered 19,6,9,20,13,7,6 and 1, then your program should print out 3 since 3 of those numbers were even.\n"
      ],
      "metadata": {
        "id": "_wVHFsMwupGs"
      }
    },
    {
      "cell_type": "code",
      "source": [
        "\n",
        "even_count = 0\n",
        "\n",
        "for i in range(8):\n",
        "    try:\n",
        "        number = int(input(f\"Enter integer {i + 1}: \"))\n",
        "        if number % 2 == 0:\n",
        "            even_count += 1\n",
        "    except ValueError:\n",
        "        print(\"Invalid input.\")\n",
        "\n",
        "print(f\"Count of even numbers: {even_count}\")"
      ],
      "metadata": {
        "colab": {
          "base_uri": "https://localhost:8080/"
        },
        "id": "PfUdFUmKwsJO",
        "outputId": "238023ac-cc5b-4a28-9d14-d2ca22d57217"
      },
      "execution_count": null,
      "outputs": [
        {
          "output_type": "stream",
          "name": "stdout",
          "text": [
            "Enter integer 1: 19\n",
            "Enter integer 2: 6\n",
            "Enter integer 3: 9\n",
            "Enter integer 4: 20\n",
            "Enter integer 5: 13\n",
            "Enter integer 6: 7\n",
            "Enter integer 7: 6\n",
            "Enter integer 8: 1\n",
            "Count of even numbers: 3\n"
          ]
        }
      ]
    },
    {
      "cell_type": "markdown",
      "source": [],
      "metadata": {
        "id": "6KUjNtchy0MV"
      }
    },
    {
      "cell_type": "markdown",
      "source": [
        "# 3. Write a python program where you take any positive integer n, if n is even, divide it by 2 to get n/2. if n is odd, multiply it by 3 and add 1 to obtain 3n+1. Repeat the process until you reach 1."
      ],
      "metadata": {
        "id": "0HoSQmALy2Yg"
      }
    },
    {
      "cell_type": "code",
      "source": [
        "def collatz(n):\n",
        "    while n != 1:\n",
        "        print(n, end=' -> ')\n",
        "        if n % 2 == 0:\n",
        "            n = n // 2\n",
        "        else:\n",
        "            n = 3 * n + 1\n",
        "    print(1)\n",
        "\n",
        "try:\n",
        "    num = int(input(\"Enter a positive integer: \"))\n",
        "    if num <= 0:\n",
        "        print(\"Please enter a positive integer.\")\n",
        "    else:\n",
        "        collatz(num)\n",
        "except ValueError:\n",
        "    print(\"Invalid input.\")\n"
      ],
      "metadata": {
        "colab": {
          "base_uri": "https://localhost:8080/"
        },
        "id": "UYaW1VYI0Z3T",
        "outputId": "150e8618-65bd-493d-c539-7c033ca52f0f"
      },
      "execution_count": null,
      "outputs": [
        {
          "output_type": "stream",
          "name": "stdout",
          "text": [
            "Enter a positive integer: 4\n",
            "4 -> 2 -> 1\n"
          ]
        }
      ]
    },
    {
      "cell_type": "markdown",
      "source": [
        "# 4. Write a python program to compute the sum of all the multiples of 3 or 5 below 500."
      ],
      "metadata": {
        "id": "qkkNnE8u2aSB"
      }
    },
    {
      "cell_type": "code",
      "source": [
        "\n",
        "total_sum = 0\n",
        "\n",
        "for num in range(1, 500):\n",
        "    if num % 3 == 0 or num % 5 == 0:\n",
        "        total_sum += num\n",
        "\n",
        "print(\"Sum of multiples of 3 or 5 below 500:\", total_sum)\n"
      ],
      "metadata": {
        "colab": {
          "base_uri": "https://localhost:8080/"
        },
        "id": "ahB8K1k-3VOe",
        "outputId": "ec0bbd35-0114-4bcf-eafd-51f7f80dbeaa"
      },
      "execution_count": null,
      "outputs": [
        {
          "output_type": "stream",
          "name": "stdout",
          "text": [
            "Sum of multiples of 3 or 5 below 500: 57918\n"
          ]
        }
      ]
    },
    {
      "cell_type": "markdown",
      "source": [
        "# 5. To write a python program to find first 'n' prime numbers from a list of given numbers."
      ],
      "metadata": {
        "id": "vQEzCV0x5X85"
      }
    },
    {
      "cell_type": "code",
      "source": [
        "def is_prime(num):\n",
        "    if num <= 1:\n",
        "        return False\n",
        "    if num <= 3:\n",
        "        return True\n",
        "    if num % 2 == 0 or num % 3 == 0:\n",
        "        return False\n",
        "    i = 5\n",
        "    while i * i <= num:\n",
        "        if num % i == 0 or num % (i + 2) == 0:\n",
        "            return False\n",
        "        i += 6\n",
        "    return True\n",
        "\n",
        "def find_first_n_primes(numbers, n):\n",
        "    prime_numbers = []\n",
        "    for num in numbers:\n",
        "        if is_prime(num):\n",
        "            prime_numbers.append(num)\n",
        "            if len(prime_numbers) == n:\n",
        "                break\n",
        "    return prime_numbers\n",
        "\n",
        "given_numbers = [2, 3, 5, 7, 10, 11, 13, 17, 19, 23]\n",
        "n = 5\n",
        "\n",
        "first_n_primes = find_first_n_primes(given_numbers, n)\n",
        "print(f\"The first {n} prime numbers from the given list are:\", first_n_primes)\n"
      ],
      "metadata": {
        "colab": {
          "base_uri": "https://localhost:8080/"
        },
        "id": "TxULy6G76Q9M",
        "outputId": "7d674f52-9390-48da-9702-49c492e79484"
      },
      "execution_count": null,
      "outputs": [
        {
          "output_type": "stream",
          "name": "stdout",
          "text": [
            "The first 5 prime numbers from the given list are: [2, 3, 5, 7, 11]\n"
          ]
        }
      ]
    },
    {
      "cell_type": "markdown",
      "source": [
        "# 6. To write a python program to compute matrix mutiplication."
      ],
      "metadata": {
        "id": "KXttAOaC8YJp"
      }
    },
    {
      "cell_type": "code",
      "source": [
        "\n",
        "A = [[1, 2, 3],\n",
        "     [4, 5, 6],\n",
        "     [7, 8, 9]]\n",
        "\n",
        "B = [[9, 8, 7],\n",
        "     [6, 5, 4],\n",
        "     [3, 2, 1]]\n",
        "\n",
        "C = [[0, 0, 0],\n",
        "     [0, 0, 0],\n",
        "     [0, 0, 0]]\n",
        "\n",
        "for i in range(len(A)):\n",
        "    for j in range(len(B[0])):\n",
        "        for k in range(len(B)):\n",
        "            C[i][j] += A[i][k] * B[k][j]\n",
        "for row in C:\n",
        "    print(row)"
      ],
      "metadata": {
        "colab": {
          "base_uri": "https://localhost:8080/"
        },
        "id": "13gwGPjABLnG",
        "outputId": "bff1edf0-023d-4829-d078-5e1e67bb1b40"
      },
      "execution_count": null,
      "outputs": [
        {
          "output_type": "stream",
          "name": "stdout",
          "text": [
            "[30, 24, 18]\n",
            "[84, 69, 54]\n",
            "[138, 114, 90]\n"
          ]
        }
      ]
    },
    {
      "cell_type": "markdown",
      "source": [
        "# 7. Write a python function  to count the number of vowels in a string."
      ],
      "metadata": {
        "id": "RTjeRxsCSMwB"
      }
    },
    {
      "cell_type": "code",
      "source": [
        "def count_vowels(string):\n",
        "\n",
        "    vowels = set(\"AEIOUaeiou\")\n",
        "\n",
        "    vowel_count = 0\n",
        "\n",
        "    for char in string:\n",
        "        if char in vowels:\n",
        "            vowel_count += 1\n",
        "\n",
        "    return vowel_count\n",
        "\n",
        "input_string = \"Hello, World!\"\n",
        "result = count_vowels(input_string)\n",
        "print(\"Number of vowels:\", result)\n"
      ],
      "metadata": {
        "colab": {
          "base_uri": "https://localhost:8080/"
        },
        "id": "0bx4wtRiUabs",
        "outputId": "688ed712-5422-41eb-a7eb-6f79f3333915"
      },
      "execution_count": null,
      "outputs": [
        {
          "output_type": "stream",
          "name": "stdout",
          "text": [
            "Number of vowels: 3\n"
          ]
        }
      ]
    },
    {
      "cell_type": "markdown",
      "source": [
        "# 8. Write a python function for finding factorial for the given number using a recursive function."
      ],
      "metadata": {
        "id": "ZpmufIpQXVbF"
      }
    },
    {
      "cell_type": "code",
      "source": [
        "def factorial(n):\n",
        "  if n == 0:\n",
        "    return 1\n",
        "  else:\n",
        "    return n * factorial(n - 1)\n",
        "factorial(5)"
      ],
      "metadata": {
        "colab": {
          "base_uri": "https://localhost:8080/"
        },
        "id": "_lBJk98ZaQ04",
        "outputId": "116e18da-f5f8-4088-d911-6da5f8b66a17"
      },
      "execution_count": null,
      "outputs": [
        {
          "output_type": "execute_result",
          "data": {
            "text/plain": [
              "120"
            ]
          },
          "metadata": {},
          "execution_count": 20
        }
      ]
    },
    {
      "cell_type": "markdown",
      "source": [
        "# 9. Write a python function for generating the fibonacci series using the function."
      ],
      "metadata": {
        "id": "nHpeJyQCaoWe"
      }
    },
    {
      "cell_type": "code",
      "source": [
        "def fibonacci_recursive(n):\n",
        "\n",
        "    if n <= 0:\n",
        "        return []\n",
        "    elif n == 1:\n",
        "        return [0]\n",
        "    elif n == 2:\n",
        "        return [0, 1]\n",
        "\n",
        "\n",
        "    else:\n",
        "        fib_series = fibonacci_recursive(n - 1)\n",
        "        next_term = fib_series[-1] + fib_series[-2]\n",
        "        fib_series.append(next_term)\n",
        "        return fib_series\n",
        "\n",
        "n = 10\n",
        "result = fibonacci_recursive(n)\n",
        "print(f\"Fibonacci series of length {n}: {result}\")\n"
      ],
      "metadata": {
        "colab": {
          "base_uri": "https://localhost:8080/"
        },
        "id": "6cj-FFHbfmKO",
        "outputId": "652a71dd-7d4d-446e-8426-ab1f7d550b5f"
      },
      "execution_count": null,
      "outputs": [
        {
          "output_type": "stream",
          "name": "stdout",
          "text": [
            "Fibonacci series of length 10: [0, 1, 1, 2, 3, 5, 8, 13, 21, 34]\n"
          ]
        }
      ]
    },
    {
      "cell_type": "markdown",
      "source": [
        "# 10. python program to display the given integer in reverse order using the function without an in-built function."
      ],
      "metadata": {
        "id": "aSEolyMIh37q"
      }
    },
    {
      "cell_type": "code",
      "source": [
        "def reverse_integer(num):\n",
        "    if num < 0:\n",
        "        sign = \"-\"\n",
        "        num = abs(num)\n",
        "    else:\n",
        "        sign = \"\"\n",
        "\n",
        "    reversed_str = sign + str(num)[::-1]\n",
        "    return int(reversed_str)\n",
        "\n",
        "\n",
        "num = int(input(\"Enter an integer: \"))\n",
        "\n",
        "reversed_num = reverse_integer(num)\n",
        "\n",
        "print(\"Reversed integer:\", reversed_num)\n"
      ],
      "metadata": {
        "colab": {
          "base_uri": "https://localhost:8080/"
        },
        "id": "9tf85_4Hi43z",
        "outputId": "98e04fb3-7887-4884-846a-f2a1e5ffad9a"
      },
      "execution_count": null,
      "outputs": [
        {
          "output_type": "stream",
          "name": "stdout",
          "text": [
            "Enter an integer: 123\n",
            "Reversed integer: 321\n"
          ]
        }
      ]
    },
    {
      "cell_type": "markdown",
      "source": [
        "# 11. Write a python function to display all integers within the range 200-300 whose sum of digits is an even number."
      ],
      "metadata": {
        "id": "3C2siH0Nkry5"
      }
    },
    {
      "cell_type": "code",
      "source": [
        "def is_even_sum_of_digits(num):\n",
        "\n",
        "    digit_sum = sum(int(digit) for digit in str(num))\n",
        "\n",
        "\n",
        "    return digit_sum % 2 == 0\n",
        "\n",
        "def display_integers_with_even_digit_sum(start, end):\n",
        "    if start > end:\n",
        "        start, end = end, start\n",
        "\n",
        "    for num in range(start, end + 1):\n",
        "        if is_even_sum_of_digits(num):\n",
        "            print(num)\n",
        "\n",
        "\n",
        "start_range = 200\n",
        "end_range = 300\n",
        "\n",
        "print(f\"Integers within the range {start_range}-{end_range} with even digit sums:\")\n",
        "display_integers_with_even_digit_sum(start_range, end_range)\n"
      ],
      "metadata": {
        "colab": {
          "base_uri": "https://localhost:8080/"
        },
        "id": "z1UR1fpDld_H",
        "outputId": "21617d14-53fe-44cf-9b92-6659c605fef1"
      },
      "execution_count": null,
      "outputs": [
        {
          "output_type": "stream",
          "name": "stdout",
          "text": [
            "Integers within the range 200-300 with even digit sums:\n",
            "200\n",
            "202\n",
            "204\n",
            "206\n",
            "208\n",
            "211\n",
            "213\n",
            "215\n",
            "217\n",
            "219\n",
            "220\n",
            "222\n",
            "224\n",
            "226\n",
            "228\n",
            "231\n",
            "233\n",
            "235\n",
            "237\n",
            "239\n",
            "240\n",
            "242\n",
            "244\n",
            "246\n",
            "248\n",
            "251\n",
            "253\n",
            "255\n",
            "257\n",
            "259\n",
            "260\n",
            "262\n",
            "264\n",
            "266\n",
            "268\n",
            "271\n",
            "273\n",
            "275\n",
            "277\n",
            "279\n",
            "280\n",
            "282\n",
            "284\n",
            "286\n",
            "288\n",
            "291\n",
            "293\n",
            "295\n",
            "297\n",
            "299\n"
          ]
        }
      ]
    },
    {
      "cell_type": "markdown",
      "source": [
        "# 12. Write a python function to find the number of  digits and sum of digits for a given integer."
      ],
      "metadata": {
        "id": "DaZWj7jSmX5W"
      }
    },
    {
      "cell_type": "code",
      "source": [
        "def find_digits_and_sum(num):\n",
        "    num_str = str(num)\n",
        "\n",
        "\n",
        "    num_of_digits = len(num_str)\n",
        "\n",
        "\n",
        "    digit_sum = sum(int(digit) for digit in num_str)\n",
        "\n",
        "    return num_of_digits, digit_sum\n",
        "\n",
        "\n",
        "num = int(input(\"Enter an integer: \"))\n",
        "\n",
        "num_of_digits, digit_sum = find_digits_and_sum(num)\n",
        "\n",
        "print(\"Number of digits:\", num_of_digits)\n",
        "print(\"Sum of digits:\", digit_sum)\n"
      ],
      "metadata": {
        "colab": {
          "base_uri": "https://localhost:8080/"
        },
        "id": "rSM-dTY0nHJ3",
        "outputId": "8ae6e7b9-5519-46b5-ed7f-649b4588e606"
      },
      "execution_count": null,
      "outputs": [
        {
          "output_type": "stream",
          "name": "stdout",
          "text": [
            "Enter an integer: 1234\n",
            "Number of digits: 4\n",
            "Sum of digits: 10\n"
          ]
        }
      ]
    },
    {
      "cell_type": "markdown",
      "source": [
        "# 13. Write functions called is_sorted that takes a list as a parameter and returns True if the list is sorted in ascending order and False otherwise and has_ duplicates that takes a list and returns True if there is any element that appears more than once. It should not modify the original list."
      ],
      "metadata": {
        "id": "mg_DwHmkoNJ6"
      }
    },
    {
      "cell_type": "code",
      "source": [
        "def is_sorted(arr):\n",
        "\n",
        "    return all(arr[i] <= arr[i + 1] for i in range(len(arr) - 1))\n",
        "\n",
        "def has_duplicates(arr):\n",
        "\n",
        "    unique_elements = set()\n",
        "\n",
        "    for item in arr:\n",
        "\n",
        "        if item in unique_elements:\n",
        "            return True\n",
        "        unique_elements.add(item)\n",
        "\n",
        "\n",
        "    return False\n",
        "\n",
        "list1 = [1, 2, 3, 4, 5]\n",
        "list2 = [1, 2, 2, 3, 4]\n",
        "list3 = [5, 4, 3, 2, 1]\n",
        "\n",
        "\n",
        "print(\"is_sorted(list1):\", is_sorted(list1))\n",
        "print(\"is_sorted(list2):\", is_sorted(list2))\n",
        "print(\"is_sorted(list3):\", is_sorted(list3))\n",
        "\n",
        "\n",
        "print(\"has_duplicates(list1):\", has_duplicates(list1))\n",
        "print(\"has_duplicates(list2):\", has_duplicates(list2))\n",
        "print(\"has_duplicates(list3):\", has_duplicates(list3))\n"
      ],
      "metadata": {
        "colab": {
          "base_uri": "https://localhost:8080/"
        },
        "id": "JGpxyqNJov9p",
        "outputId": "da4fa16f-2ac0-43cc-eda2-ba2523f409fc"
      },
      "execution_count": null,
      "outputs": [
        {
          "output_type": "stream",
          "name": "stdout",
          "text": [
            "is_sorted(list1): True\n",
            "is_sorted(list2): True\n",
            "is_sorted(list3): False\n",
            "has_duplicates(list1): False\n",
            "has_duplicates(list2): True\n",
            "has_duplicates(list3): False\n"
          ]
        }
      ]
    },
    {
      "cell_type": "markdown",
      "source": [
        "# 14. Write functions called nested_sum that takes a list of integers and adds up the elements from all the nested lists and cumsum that takes a list of numbers and returns the cumulative sum; that is, a new list where the ith element is the sum of the first i + 1 elements from the original list."
      ],
      "metadata": {
        "id": "WkNkD4CcrduM"
      }
    },
    {
      "cell_type": "code",
      "source": [
        "def nested_sum(lst):\n",
        "    total = 0\n",
        "    for item in lst:\n",
        "        if isinstance(item, list):\n",
        "            total += nested_sum(item)\n",
        "        else:\n",
        "            total += item\n",
        "    return total\n",
        "\n",
        "\n",
        "nested_list = [1, 2, [3, 4], [5, [6, 7]]]\n",
        "result = nested_sum(nested_list)\n",
        "print(\"Nested Sum:\", result)\n",
        "\n",
        "def cumsum(numbers):\n",
        "    cumulative_sum = []\n",
        "    total = 0\n",
        "    for num in numbers:\n",
        "        total += num\n",
        "        cumulative_sum.append(total)\n",
        "    return cumulative_sum\n",
        "\n",
        "\n",
        "input_list = [1, 2, 3, 4, 5]\n",
        "result = cumsum(input_list)\n",
        "print(\"Cumulative Sum:\", result)\n"
      ],
      "metadata": {
        "colab": {
          "base_uri": "https://localhost:8080/"
        },
        "id": "kH7wbt-Wuqf-",
        "outputId": "5dd430f7-c62c-4cb9-f1c7-b346c0c8ae19"
      },
      "execution_count": null,
      "outputs": [
        {
          "output_type": "stream",
          "name": "stdout",
          "text": [
            "Nested Sum: 28\n",
            "Cumulative Sum: [1, 3, 6, 10, 15]\n"
          ]
        }
      ]
    }
  ]
}