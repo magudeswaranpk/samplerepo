{
  "nbformat": 4,
  "nbformat_minor": 0,
  "metadata": {
    "colab": {
      "provenance": []
    },
    "kernelspec": {
      "name": "python3",
      "display_name": "Python 3"
    },
    "language_info": {
      "name": "python"
    }
  },
  "cells": [
    {
      "cell_type": "markdown",
      "source": [
        "# 1. Write a Python program to find a target values in a list using linear search with following steps:\n",
        "\n",
        "a. Initialize the list to store the input elements.\n",
        "\n",
        "b. Initialize found-False.\n",
        "\n",
        "c. Enter the item to be searched (match_item).\n",
        "\n",
        "d. For each element in the list\n",
        "\n",
        "    1. if match item = value\n",
        "\n",
        "    a. return match item's position.\n",
        "\n",
        "e. If the match item is not in the list, display an error message that the item is not found in the list.\n"
      ],
      "metadata": {
        "id": "9q1H2m1mx7xy"
      }
    },
    {
      "cell_type": "code",
      "source": [
        "def linear_search(input_list, match_item):\n",
        "    found = False\n",
        "\n",
        "    for index, value in enumerate(input_list):\n",
        "        if value == match_item:\n",
        "            found = True\n",
        "            return f\"{match_item} found at position {index + 1}\"\n",
        "\n",
        "    if not found:\n",
        "        return f\"{match_item} not found in the list\"\n",
        "\n",
        "input_list = [10, 25, 5, 15, 30, 20]\n",
        "match_item = int(input(\"Enter the item to search for: \"))\n",
        "\n",
        "result = linear_search(input_list, match_item)\n",
        "print(result)\n"
      ],
      "metadata": {
        "colab": {
          "base_uri": "https://localhost:8080/"
        },
        "id": "CmkWrj9MyvI3",
        "outputId": "f8c8860f-eb68-40d0-dbb9-40c33c67aff0"
      },
      "execution_count": null,
      "outputs": [
        {
          "output_type": "stream",
          "name": "stdout",
          "text": [
            "Enter the item to search for: 20\n",
            "20 found at position 6\n"
          ]
        }
      ]
    },
    {
      "cell_type": "markdown",
      "source": [
        "# 2. Write a Python program to implement binary search to find the target values from the list:\n",
        "\n",
        "a. Create a separate function to do binary search.\n",
        "\n",
        "b. Get the number of inputs from the user.\n",
        "\n",
        "c. Store the inputs individually in a list.\n",
        "\n",
        "d. In binary search function at first sort the list in order to start the search from middle of the list.\n",
        "\n",
        "e. Compare the middle element to right and left elements to search target element.\n",
        "\n",
        "f. If greater, move to right of list or else move to another side of the list.\n",
        "\n",
        "g. Print the result along with the position of the element."
      ],
      "metadata": {
        "id": "vLQsQFeGzgDV"
      }
    },
    {
      "cell_type": "code",
      "source": [
        "def binary_search(arr, target):\n",
        "    arr.sort()\n",
        "    left = 0\n",
        "    right = len(arr) - 1\n",
        "\n",
        "    while left <= right:\n",
        "        mid = (left + right) // 2\n",
        "\n",
        "        if arr[mid] == target:\n",
        "            return f\"{target} found at position {mid + 1}\"\n",
        "        elif arr[mid] < target:\n",
        "            left = mid + 1\n",
        "        else:\n",
        "            right = mid - 1\n",
        "\n",
        "    return f\"{target} not found in the list\"\n",
        "\n",
        "num_inputs = int(input(\"Enter the number of elements: \"))\n",
        "\n",
        "input_list = []\n",
        "for i in range(num_inputs):\n",
        "    element = int(input(f\"Enter element {i + 1}: \"))\n",
        "    input_list.append(element)\n",
        "\n",
        "target_value = int(input(\"Enter the target value to search for: \"))\n",
        "\n",
        "result = binary_search(input_list, target_value)\n",
        "print(result)\n"
      ],
      "metadata": {
        "colab": {
          "base_uri": "https://localhost:8080/"
        },
        "id": "1ed0SD4p0Sb8",
        "outputId": "4da5d905-bb91-4e6e-c6f0-b56207e23948"
      },
      "execution_count": null,
      "outputs": [
        {
          "output_type": "stream",
          "name": "stdout",
          "text": [
            "Enter the number of elements: 4\n",
            "Enter element 1: 11\n",
            "Enter element 2: 22\n",
            "Enter element 3: 44\n",
            "Enter element 4: 33\n",
            "Enter the target value to search for: 44\n",
            "44 found at position 4\n"
          ]
        }
      ]
    },
    {
      "cell_type": "markdown",
      "source": [
        "# 3. Write a Python program for sorting a list of elements using selection sort algorithm:\n",
        "\n",
        "a. Assume two lists: Sorted list- Initially empty and Unsorted List-Given input list.\n",
        "\n",
        "b. In the first iteration, find the smallest element in the unsorted list and place it in the sorted list.\n",
        "\n",
        "c. In the second iteration, find the smallest element in the unsorted list and place it in the correct position by comparing with the element in the sorted list.\n",
        "\n",
        "d. In the third iteration, again find the smallest element in the unsorted list and place it in the correct position by comparing with the elements in the sorted list.\n",
        "\n",
        "e. This process continues till the unsorted list becomes empty.\n",
        "\n",
        "f. Display the sorted list.\n"
      ],
      "metadata": {
        "id": "bedTdGmr1HCD"
      }
    },
    {
      "cell_type": "code",
      "source": [
        "def selection_sort(input_list):\n",
        "    sorted_list = []\n",
        "\n",
        "    while input_list:\n",
        "        min_element = min(input_list)\n",
        "        sorted_list.append(min_element)\n",
        "        input_list.remove(min_element)\n",
        "\n",
        "    return sorted_list\n",
        "\n",
        "num_elements = int(input(\"Enter the number of elements: \"))\n",
        "\n",
        "input_list = []\n",
        "\n",
        "for i in range(num_elements):\n",
        "    element = int(input(f\"Enter element {i + 1}: \"))\n",
        "    input_list.append(element)\n",
        "\n",
        "sorted_result = selection_sort(input_list)\n",
        "\n",
        "print(\"Sorted List:\", sorted_result)\n"
      ],
      "metadata": {
        "colab": {
          "base_uri": "https://localhost:8080/"
        },
        "id": "GUm4dbGk1YYC",
        "outputId": "17139e4f-2092-44f0-d70d-5a11550fa690"
      },
      "execution_count": null,
      "outputs": [
        {
          "output_type": "stream",
          "name": "stdout",
          "text": [
            "Enter the number of elements: 6\n",
            "Enter element 1: 10\n",
            "Enter element 2: 20\n",
            "Enter element 3: 30\n",
            "Enter element 4: 40\n",
            "Enter element 5: 32\n",
            "Enter element 6: 8\n",
            "Sorted List: [8, 10, 20, 30, 32, 40]\n"
          ]
        }
      ]
    },
    {
      "cell_type": "markdown",
      "source": [
        "\n",
        "# 4.Write a Python program for sorting a list of elements using insertion sort algorithm:\n",
        "a. Assume two lists: Sorted list- Initially empty and Unsorted List-Given input list.\n",
        "\n",
        "b. In the first iteration, take the first element in the unsorted list and insert it in Sorted list.\n",
        "\n",
        "c. In the second iteration, take the second element in the given list and compare with the element in the sorted sub list and place it in the correct position.\n",
        "\n",
        "d. In the third iteration, take the third element in the given list and compare with the elements in the sorted sub list and place the elements in the correct position.\n",
        "\n",
        "e. This process continues until the last element is inserted in the sorted sub list.\n",
        "\n",
        "f. Display the sorted elements."
      ],
      "metadata": {
        "id": "UFbC4ShF2SJQ"
      }
    },
    {
      "cell_type": "code",
      "source": [
        "def insertion_sort(input_list):\n",
        "    for i in range(1, len(input_list)):\n",
        "        current_element = input_list[i]\n",
        "        j = i - 1\n",
        "\n",
        "        while j >= 0 and current_element < input_list[j]:\n",
        "            input_list[j + 1] = input_list[j]\n",
        "            j -= 1\n",
        "\n",
        "        input_list[j + 1] = current_element\n",
        "\n",
        "num_elements = int(input(\"Enter the number of elements: \"))\n",
        "\n",
        "input_list = []\n",
        "\n",
        "for i in range(num_elements):\n",
        "    element = int(input(f\"Enter element {i + 1}: \"))\n",
        "    input_list.append(element)\n",
        "\n",
        "insertion_sort(input_list)\n",
        "print(\"Sorted List:\", input_list)"
      ],
      "metadata": {
        "colab": {
          "base_uri": "https://localhost:8080/"
        },
        "id": "OSO9isj04Cmc",
        "outputId": "9782f05b-ddc9-42c1-ce62-5f50609452b9"
      },
      "execution_count": null,
      "outputs": [
        {
          "output_type": "stream",
          "name": "stdout",
          "text": [
            "Enter the number of elements: 4\n",
            "Enter element 1: 67\n",
            "Enter element 2: 66\n",
            "Enter element 3: 84\n",
            "Enter element 4: 44\n",
            "Sorted List: [44, 66, 67, 84]\n"
          ]
        }
      ]
    },
    {
      "cell_type": "markdown",
      "source": [
        "# 5. Write a Python program that performs merge sort on a list of numbers:\n",
        "\n",
        "a. Divide: If the given array has zero or one element, return.\n",
        "\n",
        "    1. Otherwise\n",
        "\n",
        "    ii. Divide the input list in to two halves each containing half of the elements. i.e. left half and right half.\n",
        "\n",
        "b. Conquer: Recursively sort the two lists (left half and right half).\n",
        "\n",
        "    a. Call the merge sort on left half.\n",
        "\n",
        "    b. Call the merge sort on right half.\n",
        "\n",
        "C. Combine: Combine the elements back in the input list by merging the two sorted lists into a sorted sequence.\n"
      ],
      "metadata": {
        "id": "vtkYbStn95Zy"
      }
    },
    {
      "cell_type": "code",
      "source": [
        "def merge_sort(input_list):\n",
        "    if len(input_list) <= 1:\n",
        "        return\n",
        "\n",
        "    mid = len(input_list) // 2\n",
        "    left_half = input_list[:mid]\n",
        "    right_half = input_list[mid:]\n",
        "\n",
        "    merge_sort(left_half)\n",
        "    merge_sort(right_half)\n",
        "\n",
        "    merge(input_list, left_half, right_half)\n",
        "\n",
        "def merge(input_list, left_half, right_half):\n",
        "    i = j = k = 0\n",
        "\n",
        "    while i < len(left_half) and j < len(right_half):\n",
        "        if left_half[i] < right_half[j]:\n",
        "            input_list[k] = left_half[i]\n",
        "            i += 1\n",
        "        else:\n",
        "            input_list[k] = right_half[j]\n",
        "            j += 1\n",
        "        k += 1\n",
        "\n",
        "    while i < len(left_half):\n",
        "        input_list[k] = left_half[i]\n",
        "        i += 1\n",
        "        k += 1\n",
        "\n",
        "    while j < len(right_half):\n",
        "        input_list[k] = right_half[j]\n",
        "        j += 1\n",
        "        k += 1\n",
        "\n",
        "num_elements = int(input(\"Enter the number of elements: \"))\n",
        "\n",
        "input_list = []\n",
        "\n",
        "for i in range(num_elements):\n",
        "    element = int(input(f\"Enter element {i + 1}: \"))\n",
        "    input_list.append(element)\n",
        "\n",
        "merge_sort(input_list)\n",
        "print(\"Sorted List:\", input_list)\n"
      ],
      "metadata": {
        "colab": {
          "base_uri": "https://localhost:8080/"
        },
        "id": "mlGZJ2b1_kUE",
        "outputId": "ec620791-49b1-40fa-8493-d90cdcdc92b6"
      },
      "execution_count": null,
      "outputs": [
        {
          "output_type": "stream",
          "name": "stdout",
          "text": [
            "Enter the number of elements: 3\n",
            "Enter element 1: 56\n",
            "Enter element 2: 28\n",
            "Enter element 3: 74\n",
            "Sorted List: [28, 56, 74]\n"
          ]
        }
      ]
    },
    {
      "cell_type": "markdown",
      "source": [
        "# 6. Write a Python script to perform the following operations on a singly linked list\n",
        "\n",
        "a. Create a list\n",
        "\n",
        "b. Find the smallest element from the list\n",
        "\n",
        "C. Insert an element if it is not a duplicate element\n",
        "\n",
        "d. Display the elements in reverse order\n"
      ],
      "metadata": {
        "id": "DVvr83FcPwlR"
      }
    },
    {
      "cell_type": "code",
      "source": [
        "class Node:\n",
        "    def __init__(self, data):\n",
        "        self.data = data\n",
        "        self.next = None\n",
        "\n",
        "class LinkedList:\n",
        "    def __init__(self):\n",
        "        self.head = None\n",
        "\n",
        "    def insert(self, data):\n",
        "        new_node = Node(data)\n",
        "        if self.head is None:\n",
        "            self.head = new_node\n",
        "        else:\n",
        "            current = self.head\n",
        "            while current.next:\n",
        "                current = current.next\n",
        "            current.next = new_node\n",
        "\n",
        "    def find_smallest(self):\n",
        "        if self.head is None:\n",
        "            return None\n",
        "        current = self.head\n",
        "        smallest = current.data\n",
        "        while current:\n",
        "            if current.data < smallest:\n",
        "                smallest = current.data\n",
        "            current = current.next\n",
        "        return smallest\n",
        "\n",
        "    def insert_unique(self, data):\n",
        "        current = self.head\n",
        "        while current:\n",
        "            if current.data == data:\n",
        "                print(f\"{data} is a duplicate element and will not be inserted.\")\n",
        "                return\n",
        "            current = current.next\n",
        "        self.insert(data)\n",
        "\n",
        "    def display_reverse(self):\n",
        "        if self.head is None:\n",
        "            print(\"The list is empty.\")\n",
        "            return\n",
        "        stack = []\n",
        "        current = self.head\n",
        "        while current:\n",
        "            stack.append(current.data)\n",
        "            current = current.next\n",
        "        while stack:\n",
        "            print(stack.pop(), end=\" -> \")\n",
        "        print(\"None\")\n",
        "\n",
        "my_list = LinkedList()\n",
        "\n",
        "my_list.insert(10)\n",
        "my_list.insert(5)\n",
        "my_list.insert(15)\n",
        "my_list.insert(2)\n",
        "my_list.insert(8)\n",
        "\n",
        "smallest_element = my_list.find_smallest()\n",
        "print(f\"The smallest element in the list is: {smallest_element}\")\n",
        "\n",
        "my_list.insert_unique(5)\n",
        "my_list.insert_unique(20)\n",
        "\n",
        "print(\"Elements in reverse order:\")\n",
        "my_list.display_reverse()\n"
      ],
      "metadata": {
        "colab": {
          "base_uri": "https://localhost:8080/"
        },
        "id": "OvTVXT2hQPUQ",
        "outputId": "5de3a09e-c3aa-4eca-c7f0-fcf0721d58ef"
      },
      "execution_count": null,
      "outputs": [
        {
          "output_type": "stream",
          "name": "stdout",
          "text": [
            "The smallest element in the list is: 2\n",
            "5 is a duplicate element and will not be inserted.\n",
            "Elements in reverse order:\n",
            "20 -> 8 -> 2 -> 15 -> 5 -> 10 -> None\n"
          ]
        }
      ]
    },
    {
      "cell_type": "markdown",
      "source": [
        "# 7.Write a python program to implement the various operations for Stack ADT i.) Push ii.) Pop iii.) Display."
      ],
      "metadata": {
        "id": "jkEhdY1tVn5G"
      }
    },
    {
      "cell_type": "code",
      "source": [
        "class Stack:\n",
        "    def __init__(self):\n",
        "        self.items = []\n",
        "\n",
        "    def push(self, item):\n",
        "        self.items.append(item)\n",
        "\n",
        "    def pop(self):\n",
        "        if not self.is_empty():\n",
        "            return self.items.pop()\n",
        "        else:\n",
        "            print(\"Stack is empty. Cannot pop.\")\n",
        "            return None\n",
        "\n",
        "    def display(self):\n",
        "        if not self.is_empty():\n",
        "            print(\"Stack elements:\")\n",
        "            for item in reversed(self.items):\n",
        "                print(item)\n",
        "        else:\n",
        "            print(\"Stack is empty.\")\n",
        "\n",
        "    def is_empty(self):\n",
        "        return len(self.items) == 0\n",
        "\n",
        "my_stack = Stack()\n",
        "\n",
        "my_stack.push(10)\n",
        "my_stack.push(20)\n",
        "my_stack.push(30)\n",
        "my_stack.push(40)\n",
        "\n",
        "my_stack.display()\n",
        "\n",
        "popped_item = my_stack.pop()\n",
        "if popped_item is not None:\n",
        "    print(f\"Popped item: {popped_item}\")\n",
        "\n",
        "my_stack.display()\n"
      ],
      "metadata": {
        "colab": {
          "base_uri": "https://localhost:8080/"
        },
        "id": "y6wrgq1-VukI",
        "outputId": "edde808e-126b-4450-e9e4-52f6046c69f7"
      },
      "execution_count": null,
      "outputs": [
        {
          "output_type": "stream",
          "name": "stdout",
          "text": [
            "Stack elements:\n",
            "40\n",
            "30\n",
            "20\n",
            "10\n",
            "Popped item: 40\n",
            "Stack elements:\n",
            "30\n",
            "20\n",
            "10\n"
          ]
        }
      ]
    },
    {
      "cell_type": "markdown",
      "source": [
        "# 8. Write a python script to implement the various operations for Queue ADT i.) Insert ii.) Delete iii.) Display."
      ],
      "metadata": {
        "id": "WS_wOErlWtYH"
      }
    },
    {
      "cell_type": "code",
      "source": [
        "class Queue:\n",
        "    def __init__(self):\n",
        "        self.items = []\n",
        "\n",
        "    def enqueue(self, item):\n",
        "        self.items.append(item)\n",
        "\n",
        "    def dequeue(self):\n",
        "        if not self.is_empty():\n",
        "            return self.items.pop(0)\n",
        "        else:\n",
        "            print(\"Queue is empty. Cannot dequeue.\")\n",
        "            return None\n",
        "\n",
        "    def display(self):\n",
        "        if not self.is_empty():\n",
        "            print(\"Queue elements:\")\n",
        "            for item in self.items:\n",
        "                print(item)\n",
        "        else:\n",
        "            print(\"Queue is empty.\")\n",
        "\n",
        "    def is_empty(self):\n",
        "        return len(self.items) == 0\n",
        "\n",
        "my_queue = Queue()\n",
        "\n",
        "my_queue.enqueue(10)\n",
        "my_queue.enqueue(20)\n",
        "my_queue.enqueue(30)\n",
        "my_queue.enqueue(40)\n",
        "\n",
        "my_queue.display()\n",
        "\n",
        "dequeued_item = my_queue.dequeue()\n",
        "if dequeued_item is not None:\n",
        "    print(f\"Dequeued item: {dequeued_item}\")\n",
        "\n",
        "my_queue.display()\n"
      ],
      "metadata": {
        "colab": {
          "base_uri": "https://localhost:8080/"
        },
        "id": "XkmxwsFMWyyc",
        "outputId": "ed859e5b-91d5-4d7e-c255-5911ba863e4f"
      },
      "execution_count": null,
      "outputs": [
        {
          "output_type": "stream",
          "name": "stdout",
          "text": [
            "Queue elements:\n",
            "10\n",
            "20\n",
            "30\n",
            "40\n",
            "Dequeued item: 10\n",
            "Queue elements:\n",
            "20\n",
            "30\n",
            "40\n"
          ]
        }
      ]
    },
    {
      "cell_type": "markdown",
      "source": [
        "# 9. Write a program in python to convert the following infix expression to its postfix form using push and pop operations of a Stack\n",
        "\n",
        "a. A/B^C+D E-F*G\n",
        "\n",
        "b. (B^2-4*A*C)^(1/2) (100)"
      ],
      "metadata": {
        "id": "hgRTzSN5XaeT"
      }
    },
    {
      "cell_type": "code",
      "source": [
        "def infix_to_postfix(infix_expression):\n",
        "\n",
        "    stack = []\n",
        "    postfix_expression = \"\"\n",
        "\n",
        "    for token in infix_expression:\n",
        "        if token in [\"A\", \"B\", \"C\", \"D\", \"E\", \"F\", \"G\"]:\n",
        "            postfix_expression += token\n",
        "        elif token == \"+\" or token == \"-\":\n",
        "            while stack and stack[-1] != \"(\":\n",
        "                postfix_expression += stack.pop()\n",
        "            stack.append(token)\n",
        "        elif token == \"*\" or token == \"/\":\n",
        "            while stack and stack[-1] != \"(\" and (stack[-1] == \"*\" or stack[-1] == \"/\"):\n",
        "                postfix_expression += stack.pop()\n",
        "            stack.append(token)\n",
        "        elif token == \"(\":\n",
        "            stack.append(token)\n",
        "        elif token == \")\":\n",
        "            while stack and stack[-1] != \"(\":\n",
        "                postfix_expression += stack.pop()\n",
        "            stack.pop()\n",
        "\n",
        "    while stack:\n",
        "        postfix_expression += stack.pop()\n",
        "\n",
        "    return postfix_expression\n",
        "\n",
        "infix_expression_a = \"A/B^C+D E-F*G\"\n",
        "postfix_expression_a = infix_to_postfix(infix_expression_a)\n",
        "\n",
        "infix_expression_b = \"(B^2-4*A*C)^(1/2) (100)\"\n",
        "postfix_expression_b = infix_to_postfix(infix_expression_b)\n",
        "\n",
        "print(postfix_expression_a)\n",
        "print(postfix_expression_b)\n"
      ],
      "metadata": {
        "colab": {
          "base_uri": "https://localhost:8080/"
        },
        "id": "Q8kUvwXOX21b",
        "outputId": "f3871eb9-01d8-44b7-830f-3b0e38cc0db6"
      },
      "execution_count": null,
      "outputs": [
        {
          "output_type": "stream",
          "name": "stdout",
          "text": [
            "ABC/DE+FG*-\n",
            "BA*C*-/\n"
          ]
        }
      ]
    }
  ]
}