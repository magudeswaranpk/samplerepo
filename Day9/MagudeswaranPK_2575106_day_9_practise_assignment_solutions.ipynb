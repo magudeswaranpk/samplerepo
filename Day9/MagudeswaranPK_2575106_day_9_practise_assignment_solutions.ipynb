{
  "nbformat": 4,
  "nbformat_minor": 0,
  "metadata": {
    "colab": {
      "provenance": []
    },
    "kernelspec": {
      "name": "python3",
      "display_name": "Python 3"
    },
    "language_info": {
      "name": "python"
    }
  },
  "cells": [
    {
      "cell_type": "markdown",
      "source": [
        "# 1. Create a 3x3x3 array with random values"
      ],
      "metadata": {
        "id": "6lKFHK2K89dv"
      }
    },
    {
      "cell_type": "code",
      "source": [
        "import numpy as np\n",
        "\n",
        "random_array = np.random.rand(3, 3, 3)\n",
        "\n",
        "print(random_array)\n"
      ],
      "metadata": {
        "colab": {
          "base_uri": "https://localhost:8080/"
        },
        "id": "rOpwUkf29vuG",
        "outputId": "0e6eb1cb-81f5-4742-ebd6-cf575ab6072b"
      },
      "execution_count": null,
      "outputs": [
        {
          "output_type": "stream",
          "name": "stdout",
          "text": [
            "[[[0.45198155 0.07678681 0.67606888]\n",
            "  [0.40704164 0.49020921 0.84470826]\n",
            "  [0.80758708 0.29154294 0.60037452]]\n",
            "\n",
            " [[0.7322369  0.35830193 0.85503119]\n",
            "  [0.26754801 0.24897212 0.21689195]\n",
            "  [0.06542521 0.81721318 0.55235928]]\n",
            "\n",
            " [[0.86486811 0.60197519 0.58109906]\n",
            "  [0.62265963 0.49347626 0.91160679]\n",
            "  [0.25876599 0.68218588 0.64477402]]]\n"
          ]
        }
      ]
    },
    {
      "cell_type": "markdown",
      "source": [
        "# 2.Create a 5x5 matrix with values 1,2,3,4 just below the diagonal"
      ],
      "metadata": {
        "id": "uLPRkkdj_zeU"
      }
    },
    {
      "cell_type": "code",
      "source": [
        "import numpy as np\n",
        "\n",
        "matrix = np.zeros((5, 5))\n",
        "\n",
        "np.fill_diagonal(matrix[1:], [1, 2, 3, 4])\n",
        "\n",
        "print(matrix)\n"
      ],
      "metadata": {
        "colab": {
          "base_uri": "https://localhost:8080/"
        },
        "id": "0DLfXT59ANYx",
        "outputId": "62b515b4-0dda-4bca-f484-0dcbe65a5363"
      },
      "execution_count": null,
      "outputs": [
        {
          "output_type": "stream",
          "name": "stdout",
          "text": [
            "[[0. 0. 0. 0. 0.]\n",
            " [1. 0. 0. 0. 0.]\n",
            " [0. 2. 0. 0. 0.]\n",
            " [0. 0. 3. 0. 0.]\n",
            " [0. 0. 0. 4. 0.]]\n"
          ]
        }
      ]
    },
    {
      "cell_type": "markdown",
      "source": [
        "# 3.Create a 8x8 matrix and fill it with a checkerboard pattern\n"
      ],
      "metadata": {
        "id": "PcqdxL9YBWzf"
      }
    },
    {
      "cell_type": "code",
      "source": [
        "import numpy as np\n",
        "\n",
        "checkerboard = np.zeros((8, 8), dtype=int)\n",
        "\n",
        "checkerboard[1::2, ::2] = 1\n",
        "checkerboard[::2, 1::2] = 1\n",
        "\n",
        "print(checkerboard)\n"
      ],
      "metadata": {
        "colab": {
          "base_uri": "https://localhost:8080/"
        },
        "id": "Ir1FW4qeBZPv",
        "outputId": "64dd2a6b-6390-4a8d-8e88-b998783ad890"
      },
      "execution_count": null,
      "outputs": [
        {
          "output_type": "stream",
          "name": "stdout",
          "text": [
            "[[0 1 0 1 0 1 0 1]\n",
            " [1 0 1 0 1 0 1 0]\n",
            " [0 1 0 1 0 1 0 1]\n",
            " [1 0 1 0 1 0 1 0]\n",
            " [0 1 0 1 0 1 0 1]\n",
            " [1 0 1 0 1 0 1 0]\n",
            " [0 1 0 1 0 1 0 1]\n",
            " [1 0 1 0 1 0 1 0]]\n"
          ]
        }
      ]
    },
    {
      "cell_type": "markdown",
      "source": [
        "# 4. Normalize a 5x5 random matrix"
      ],
      "metadata": {
        "id": "FKhTtzpOBu-2"
      }
    },
    {
      "cell_type": "code",
      "source": [
        "import numpy as np\n",
        "\n",
        "random_matrix = np.random.rand(5, 5)\n",
        "\n",
        "mean = random_matrix.mean()\n",
        "std_dev = random_matrix.std()\n",
        "\n",
        "normalized_matrix = (random_matrix - mean) / std_dev\n",
        "\n",
        "print(\"Original random matrix:\")\n",
        "print(random_matrix)\n",
        "print(\"\\nNormalized matrix:\")\n",
        "print(normalized_matrix)\n"
      ],
      "metadata": {
        "colab": {
          "base_uri": "https://localhost:8080/"
        },
        "id": "Rx2ZLWaIBzXe",
        "outputId": "b28edbff-02ff-41e1-8936-f1701281fc1b"
      },
      "execution_count": null,
      "outputs": [
        {
          "output_type": "stream",
          "name": "stdout",
          "text": [
            "Original random matrix:\n",
            "[[0.744028   0.79839416 0.48948235 0.83856293 0.08674592]\n",
            " [0.65292975 0.92569961 0.37573943 0.97945137 0.61019141]\n",
            " [0.0361548  0.32155153 0.00831282 0.03318112 0.96893106]\n",
            " [0.54970563 0.15787144 0.84740816 0.59452967 0.49010516]\n",
            " [0.15955113 0.6789319  0.26845783 0.16952908 0.93620191]]\n",
            "\n",
            "Normalized matrix:\n",
            "[[ 0.73330247  0.90283169 -0.06044352  1.02808937 -1.31629068]\n",
            " [ 0.44923213  1.29980643 -0.41512643  1.46741974  0.31596179]\n",
            " [-1.47404826 -0.58409978 -1.56086747 -1.48332102  1.43461442]\n",
            " [ 0.12734984 -1.094501    1.05567134  0.26712401 -0.05850142]\n",
            " [-1.08926325  0.53031425 -0.74966109 -1.05814917  1.33255558]]\n"
          ]
        }
      ]
    },
    {
      "cell_type": "markdown",
      "source": [
        "# 5. How to find common values between two arrays?\n"
      ],
      "metadata": {
        "id": "hn_9F3FICbNN"
      }
    },
    {
      "cell_type": "code",
      "source": [
        "import numpy as np\n",
        "\n",
        "array1 = np.array([1, 2, 3, 4, 5])\n",
        "array2 = np.array([3, 4, 5, 6, 7])\n",
        "\n",
        "common_values = np.intersect1d(array1, array2)\n",
        "print(common_values)\n"
      ],
      "metadata": {
        "colab": {
          "base_uri": "https://localhost:8080/"
        },
        "id": "csEmu7KWC7hc",
        "outputId": "3348280f-4838-441f-c66d-bf03045f93c4"
      },
      "execution_count": null,
      "outputs": [
        {
          "output_type": "stream",
          "name": "stdout",
          "text": [
            "[3 4 5]\n"
          ]
        }
      ]
    },
    {
      "cell_type": "markdown",
      "source": [
        "# 6. How to get the dates of yesterday, today and tomorrow?"
      ],
      "metadata": {
        "id": "y1AJHZ_nEC1r"
      }
    },
    {
      "cell_type": "code",
      "source": [
        "import numpy as np\n",
        "import datetime\n",
        "\n",
        "today = np.datetime64('today')\n",
        "\n",
        "yesterday = today - np.timedelta64(1, 'D')\n",
        "tomorrow = today + np.timedelta64(1, 'D')\n",
        "\n",
        "today = today.astype(datetime.datetime)\n",
        "yesterday = yesterday.astype(datetime.datetime)\n",
        "tomorrow = tomorrow.astype(datetime.datetime)\n",
        "\n",
        "print(\"Yesterday:\", yesterday)\n",
        "print(\"Today:\", today)\n",
        "print(\"Tomorrow:\", tomorrow)\n"
      ],
      "metadata": {
        "colab": {
          "base_uri": "https://localhost:8080/"
        },
        "id": "ZCVYHU0aEJJ6",
        "outputId": "714fb410-c20d-43d1-b16a-6ad4b6bdbca1"
      },
      "execution_count": null,
      "outputs": [
        {
          "output_type": "stream",
          "name": "stdout",
          "text": [
            "Yesterday: 2023-09-20\n",
            "Today: 2023-09-21\n",
            "Tomorrow: 2023-09-22\n"
          ]
        }
      ]
    },
    {
      "cell_type": "markdown",
      "source": [
        "# 7. Consider two random array A and B, check if they are equal\n"
      ],
      "metadata": {
        "id": "weOQ0MnRFJdS"
      }
    },
    {
      "cell_type": "code",
      "source": [
        "import numpy as np\n",
        "\n",
        "A = np.random.rand(5)\n",
        "B = np.random.rand(5)\n",
        "\n",
        "are_equal = np.array_equal(A, B)\n",
        "\n",
        "if are_equal:\n",
        "    print(\"Arrays A and B are equal.\")\n",
        "else:\n",
        "    print(\"Arrays A and B are not equal.\")\n"
      ],
      "metadata": {
        "colab": {
          "base_uri": "https://localhost:8080/"
        },
        "id": "6mKX8_BbFSvJ",
        "outputId": "6311e424-d805-45b1-e509-5fb8ee685ab6"
      },
      "execution_count": null,
      "outputs": [
        {
          "output_type": "stream",
          "name": "stdout",
          "text": [
            "Arrays A and B are not equal.\n"
          ]
        }
      ]
    },
    {
      "cell_type": "markdown",
      "source": [
        "# 8.Create random vector of size 10 and replace the maximum value by 0"
      ],
      "metadata": {
        "id": "VhtgWmwmF2Rf"
      }
    },
    {
      "cell_type": "code",
      "source": [
        "import numpy as np\n",
        "\n",
        "random_vector = np.random.rand(10)\n",
        "\n",
        "max_index = np.argmax(random_vector)\n",
        "\n",
        "random_vector[max_index] = 0\n",
        "\n",
        "print(\"Random vector with the maximum value replaced:\")\n",
        "print(random_vector)\n"
      ],
      "metadata": {
        "colab": {
          "base_uri": "https://localhost:8080/"
        },
        "id": "pqsA0XreGaUO",
        "outputId": "3bc1f3f7-501e-47d8-8fd3-7a76f9af4adc"
      },
      "execution_count": null,
      "outputs": [
        {
          "output_type": "stream",
          "name": "stdout",
          "text": [
            "Random vector with the maximum value replaced:\n",
            "[0.52591835 0.62564628 0.52246204 0.2648957  0.41301604 0.00178379\n",
            " 0.         0.14435567 0.15005658 0.4024856 ]\n"
          ]
        }
      ]
    },
    {
      "cell_type": "markdown",
      "source": [
        "# 9. How to print all the values of an array?\n"
      ],
      "metadata": {
        "id": "1N1F2tFeGpb4"
      }
    },
    {
      "cell_type": "code",
      "source": [
        "import numpy as np\n",
        "\n",
        "my_array = np.array([1, 2, 3, 4, 5])\n",
        "print(my_array)\n"
      ],
      "metadata": {
        "colab": {
          "base_uri": "https://localhost:8080/"
        },
        "id": "vigf_GNSGtsp",
        "outputId": "f1500aed-3da0-4382-80b6-daced89dda40"
      },
      "execution_count": null,
      "outputs": [
        {
          "output_type": "stream",
          "name": "stdout",
          "text": [
            "[1 2 3 4 5]\n"
          ]
        }
      ]
    },
    {
      "cell_type": "markdown",
      "source": [
        "# 10.Subtract the mean of each row of a matrix\n"
      ],
      "metadata": {
        "id": "LqQD0nn5HAQx"
      }
    },
    {
      "cell_type": "code",
      "source": [
        "import numpy as np\n",
        "\n",
        "matrix = np.array([[1, 2, 3],\n",
        "                   [4, 5, 6],\n",
        "                   [7, 8, 9]])\n",
        "\n",
        "row_means = np.mean(matrix, axis=1, keepdims=True)\n",
        "\n",
        "normalized_matrix = matrix - row_means\n",
        "\n",
        "print(\"Original matrix:\")\n",
        "print(matrix)\n",
        "print(\"\\nMatrix with row-wise means subtracted:\")\n",
        "print(normalized_matrix)\n"
      ],
      "metadata": {
        "colab": {
          "base_uri": "https://localhost:8080/"
        },
        "id": "C5lGGOK7HdHV",
        "outputId": "19652f04-68bf-448e-94a3-41a275d535ff"
      },
      "execution_count": null,
      "outputs": [
        {
          "output_type": "stream",
          "name": "stdout",
          "text": [
            "Original matrix:\n",
            "[[1 2 3]\n",
            " [4 5 6]\n",
            " [7 8 9]]\n",
            "\n",
            "Matrix with row-wise means subtracted:\n",
            "[[-1.  0.  1.]\n",
            " [-1.  0.  1.]\n",
            " [-1.  0.  1.]]\n"
          ]
        }
      ]
    },
    {
      "cell_type": "markdown",
      "source": [
        "# 11.Consider a given vector, how to add 1 to each element indexed by a second vector (be careful with repeated indices)?"
      ],
      "metadata": {
        "id": "3kkl_NffHy7U"
      }
    },
    {
      "cell_type": "code",
      "source": [
        "import numpy as np\n",
        "\n",
        "given_vector = np.array([1, 2, 3, 4, 5])\n",
        "\n",
        "index_vector = np.array([1, 3, 3, 4])\n",
        "\n",
        "unique_indices, counts = np.unique(index_vector, return_counts=True)\n",
        "\n",
        "given_vector[unique_indices] += 1\n",
        "\n",
        "print(\"Given vector with 1 added at unique indices:\")\n",
        "print(given_vector)\n"
      ],
      "metadata": {
        "colab": {
          "base_uri": "https://localhost:8080/"
        },
        "id": "aKLB59YQH2c3",
        "outputId": "6d881027-dc43-49e2-c3e9-3c9adb29fe57"
      },
      "execution_count": null,
      "outputs": [
        {
          "output_type": "stream",
          "name": "stdout",
          "text": [
            "Given vector with 1 added at unique indices:\n",
            "[1 3 3 5 6]\n"
          ]
        }
      ]
    },
    {
      "cell_type": "markdown",
      "source": [
        "# 12.How to get the diagonal of a dot product?"
      ],
      "metadata": {
        "id": "9enY-PwGIJNE"
      }
    },
    {
      "cell_type": "code",
      "source": [
        "import numpy as np\n",
        "\n",
        "A = np.array([[1, 2], [3, 4]])\n",
        "B = np.array([[5, 6], [7, 8]])\n",
        "\n",
        "dot_product = np.dot(A, B)\n",
        "\n",
        "diagonal = np.diag(dot_product)\n",
        "\n",
        "print(\"Matrix A:\")\n",
        "print(A)\n",
        "print(\"\\nMatrix B:\")\n",
        "print(B)\n",
        "print(\"\\nDot product of A and B:\")\n",
        "print(dot_product)\n",
        "print(\"\\nDiagonal of the dot product:\")\n",
        "print(diagonal)\n"
      ],
      "metadata": {
        "colab": {
          "base_uri": "https://localhost:8080/"
        },
        "id": "ZZdfjI8nIO00",
        "outputId": "85d0ddf2-cbc0-44bc-bfc4-70eaefe2c72f"
      },
      "execution_count": null,
      "outputs": [
        {
          "output_type": "stream",
          "name": "stdout",
          "text": [
            "Matrix A:\n",
            "[[1 2]\n",
            " [3 4]]\n",
            "\n",
            "Matrix B:\n",
            "[[5 6]\n",
            " [7 8]]\n",
            "\n",
            "Dot product of A and B:\n",
            "[[19 22]\n",
            " [43 50]]\n",
            "\n",
            "Diagonal of the dot product:\n",
            "[19 50]\n"
          ]
        }
      ]
    },
    {
      "cell_type": "markdown",
      "source": [
        "# 13.How to find the most frequent value in an array?"
      ],
      "metadata": {
        "id": "DOpGMAffJeAU"
      }
    },
    {
      "cell_type": "code",
      "source": [
        "import numpy as np\n",
        "\n",
        "arr = np.array([1, 2, 2, 3, 4, 4, 4, 5, 5, 5, 5])\n",
        "\n",
        "unique_values, counts = np.unique(arr, return_counts=True)\n",
        "\n",
        "mode_index = np.argmax(counts)\n",
        "\n",
        "most_frequent_value = unique_values[mode_index]\n",
        "\n",
        "print(\"Array:\", arr)\n",
        "print(\"Most frequent value(s):\", most_frequent_value)\n"
      ],
      "metadata": {
        "colab": {
          "base_uri": "https://localhost:8080/"
        },
        "id": "TvE0Vx0qJst6",
        "outputId": "5e8b0854-f9bd-4176-c218-94a29c4a6c2d"
      },
      "execution_count": null,
      "outputs": [
        {
          "output_type": "stream",
          "name": "stdout",
          "text": [
            "Array: [1 2 2 3 4 4 4 5 5 5 5]\n",
            "Most frequent value(s): 5\n"
          ]
        }
      ]
    },
    {
      "cell_type": "markdown",
      "source": [
        "\n",
        "# 14.How to get the n largest values of an array"
      ],
      "metadata": {
        "id": "acfNmtMOKOAw"
      }
    },
    {
      "cell_type": "code",
      "source": [
        "import numpy as np\n",
        "\n",
        "arr = np.array([3, 1, 4, 1, 5, 9, 2, 6, 5, 3])\n",
        "\n",
        "n = 3\n",
        "largest_values = np.partition(arr, -n)[-n:]\n",
        "\n",
        "print(\"Array:\", arr)\n",
        "print(f\"{n} Largest Values:\", largest_values)\n"
      ],
      "metadata": {
        "colab": {
          "base_uri": "https://localhost:8080/"
        },
        "id": "KfcAEtwGKQB6",
        "outputId": "38d744c1-3769-44cb-85b4-2db9c520ece1"
      },
      "execution_count": null,
      "outputs": [
        {
          "output_type": "stream",
          "name": "stdout",
          "text": [
            "Array: [3 1 4 1 5 9 2 6 5 3]\n",
            "3 Largest Values: [5 6 9]\n"
          ]
        }
      ]
    },
    {
      "cell_type": "markdown",
      "source": [
        "\n",
        "# 15.How to create a record array from a regular array"
      ],
      "metadata": {
        "id": "ml3Lvyp_K7OQ"
      }
    },
    {
      "cell_type": "code",
      "source": [
        "import numpy as np\n",
        "\n",
        "data = [(1, 'Alice', 25),\n",
        "        (2, 'Bob', 30),\n",
        "        (3, 'Charlie', 35)]\n",
        "\n",
        "dtype = [('ID', int), ('Name', 'U10'), ('Age', int)]\n",
        "structured_array = np.array(data, dtype=dtype)\n",
        "\n",
        "record_array = structured_array.view(np.recarray)\n",
        "\n",
        "print(\"Record Array:\")\n",
        "print(record_array)\n",
        "print(\"\\nAccessing elements:\")\n",
        "print(\"ID:\", record_array.ID)\n",
        "print(\"Name:\", record_array.Name)\n",
        "print(\"Age:\", record_array.Age)\n"
      ],
      "metadata": {
        "colab": {
          "base_uri": "https://localhost:8080/"
        },
        "id": "nga0lpszLA1_",
        "outputId": "d9a7f306-7589-4a62-eed0-140a546f470f"
      },
      "execution_count": null,
      "outputs": [
        {
          "output_type": "stream",
          "name": "stdout",
          "text": [
            "Record Array:\n",
            "[(1, 'Alice', 25) (2, 'Bob', 30) (3, 'Charlie', 35)]\n",
            "\n",
            "Accessing elements:\n",
            "ID: [1 2 3]\n",
            "Name: ['Alice' 'Bob' 'Charlie']\n",
            "Age: [25 30 35]\n"
          ]
        }
      ]
    },
    {
      "cell_type": "markdown",
      "source": [
        "# 16. How to swap two rows of an array?"
      ],
      "metadata": {
        "id": "qZMTkV0VM7I7"
      }
    },
    {
      "cell_type": "code",
      "source": [
        "import numpy as np\n",
        "\n",
        "array = np.array([[1, 2, 3],\n",
        "                  [4, 5, 6],\n",
        "                  [7, 8, 9]])\n",
        "\n",
        "row1_index = 0\n",
        "row2_index = 1\n",
        "\n",
        "array[row1_index], array[row2_index] = array[row2_index].copy(), array[row1_index].copy()\n",
        "\n",
        "print(\"Original array:\")\n",
        "print(array)\n"
      ],
      "metadata": {
        "colab": {
          "base_uri": "https://localhost:8080/"
        },
        "id": "mMXEsDEHNLZz",
        "outputId": "a760a9e4-13e5-46aa-954d-11e6ec203d26"
      },
      "execution_count": null,
      "outputs": [
        {
          "output_type": "stream",
          "name": "stdout",
          "text": [
            "Original array:\n",
            "[[4 5 6]\n",
            " [1 2 3]\n",
            " [7 8 9]]\n"
          ]
        }
      ]
    },
    {
      "cell_type": "markdown",
      "source": [
        "\n",
        "# 17. Write python code to reshape to the next dimension of numpy array?"
      ],
      "metadata": {
        "id": "3UL2d6XMNfo6"
      }
    },
    {
      "cell_type": "code",
      "source": [
        "import numpy as np\n",
        "\n",
        "array = np.array([1, 2, 3, 4, 5, 6])\n",
        "\n",
        "reshaped_array = array.reshape(-1, 2)\n",
        "\n",
        "print(\"Original array:\")\n",
        "print(array)\n",
        "print(\"\\nReshaped array:\")\n",
        "print(reshaped_array)\n"
      ],
      "metadata": {
        "colab": {
          "base_uri": "https://localhost:8080/"
        },
        "id": "-4wXC2ySNmPK",
        "outputId": "cffb6678-cdf8-4b63-b703-6a84fb80f280"
      },
      "execution_count": null,
      "outputs": [
        {
          "output_type": "stream",
          "name": "stdout",
          "text": [
            "Original array:\n",
            "[1 2 3 4 5 6]\n",
            "\n",
            "Reshaped array:\n",
            "[[1 2]\n",
            " [3 4]\n",
            " [5 6]]\n"
          ]
        }
      ]
    }
  ]
}