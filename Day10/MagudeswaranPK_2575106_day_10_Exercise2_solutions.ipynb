{
  "cells": [
    {
      "cell_type": "markdown",
      "source": [
        "# Exercise 2\n",
        "\n"
      ],
      "metadata": {
        "id": "QvHBiwNE3fQt"
      }
    },
    {
      "cell_type": "code",
      "source": [
        "%matplotlib inline\n",
        "import pandas as pd\n",
        "import seaborn as sbn\n",
        "sbn.set()\n",
        "\n",
        "titles = pd.read_csv('/content/titles.csv')\n",
        "titles.head()\n",
        "\n",
        "cast = pd.read_csv('/content/cast.csv', index_col=None)\n",
        "cast.head()"
      ],
      "metadata": {
        "colab": {
          "base_uri": "https://localhost:8080/",
          "height": 206
        },
        "id": "XfH6lORw3flM",
        "outputId": "1711ebe3-6f7b-44f7-950d-3f5c494d198c"
      },
      "execution_count": null,
      "outputs": [
        {
          "output_type": "execute_result",
          "data": {
            "text/plain": [
              "                  title  year      name   type                character     n\n",
              "0        Closet Monster  2015  Buffy #1  actor                  Buffy 4  31.0\n",
              "1       Suuri illusioni  1985    Homo $  actor                   Guests  22.0\n",
              "2   Battle of the Sexes  2017   $hutter  actor          Bobby Riggs Fan  10.0\n",
              "3  Secret in Their Eyes  2015   $hutter  actor          2002 Dodger Fan   NaN\n",
              "4            Steve Jobs  2015   $hutter  actor  1988 Opera House Patron   NaN"
            ],
            "text/html": [
              "\n",
              "  <div id=\"df-ad04c0a3-82f9-4f04-9bc5-7c3f3413046c\" class=\"colab-df-container\">\n",
              "    <div>\n",
              "<style scoped>\n",
              "    .dataframe tbody tr th:only-of-type {\n",
              "        vertical-align: middle;\n",
              "    }\n",
              "\n",
              "    .dataframe tbody tr th {\n",
              "        vertical-align: top;\n",
              "    }\n",
              "\n",
              "    .dataframe thead th {\n",
              "        text-align: right;\n",
              "    }\n",
              "</style>\n",
              "<table border=\"1\" class=\"dataframe\">\n",
              "  <thead>\n",
              "    <tr style=\"text-align: right;\">\n",
              "      <th></th>\n",
              "      <th>title</th>\n",
              "      <th>year</th>\n",
              "      <th>name</th>\n",
              "      <th>type</th>\n",
              "      <th>character</th>\n",
              "      <th>n</th>\n",
              "    </tr>\n",
              "  </thead>\n",
              "  <tbody>\n",
              "    <tr>\n",
              "      <th>0</th>\n",
              "      <td>Closet Monster</td>\n",
              "      <td>2015</td>\n",
              "      <td>Buffy #1</td>\n",
              "      <td>actor</td>\n",
              "      <td>Buffy 4</td>\n",
              "      <td>31.0</td>\n",
              "    </tr>\n",
              "    <tr>\n",
              "      <th>1</th>\n",
              "      <td>Suuri illusioni</td>\n",
              "      <td>1985</td>\n",
              "      <td>Homo $</td>\n",
              "      <td>actor</td>\n",
              "      <td>Guests</td>\n",
              "      <td>22.0</td>\n",
              "    </tr>\n",
              "    <tr>\n",
              "      <th>2</th>\n",
              "      <td>Battle of the Sexes</td>\n",
              "      <td>2017</td>\n",
              "      <td>$hutter</td>\n",
              "      <td>actor</td>\n",
              "      <td>Bobby Riggs Fan</td>\n",
              "      <td>10.0</td>\n",
              "    </tr>\n",
              "    <tr>\n",
              "      <th>3</th>\n",
              "      <td>Secret in Their Eyes</td>\n",
              "      <td>2015</td>\n",
              "      <td>$hutter</td>\n",
              "      <td>actor</td>\n",
              "      <td>2002 Dodger Fan</td>\n",
              "      <td>NaN</td>\n",
              "    </tr>\n",
              "    <tr>\n",
              "      <th>4</th>\n",
              "      <td>Steve Jobs</td>\n",
              "      <td>2015</td>\n",
              "      <td>$hutter</td>\n",
              "      <td>actor</td>\n",
              "      <td>1988 Opera House Patron</td>\n",
              "      <td>NaN</td>\n",
              "    </tr>\n",
              "  </tbody>\n",
              "</table>\n",
              "</div>\n",
              "    <div class=\"colab-df-buttons\">\n",
              "\n",
              "  <div class=\"colab-df-container\">\n",
              "    <button class=\"colab-df-convert\" onclick=\"convertToInteractive('df-ad04c0a3-82f9-4f04-9bc5-7c3f3413046c')\"\n",
              "            title=\"Convert this dataframe to an interactive table.\"\n",
              "            style=\"display:none;\">\n",
              "\n",
              "  <svg xmlns=\"http://www.w3.org/2000/svg\" height=\"24px\" viewBox=\"0 -960 960 960\">\n",
              "    <path d=\"M120-120v-720h720v720H120Zm60-500h600v-160H180v160Zm220 220h160v-160H400v160Zm0 220h160v-160H400v160ZM180-400h160v-160H180v160Zm440 0h160v-160H620v160ZM180-180h160v-160H180v160Zm440 0h160v-160H620v160Z\"/>\n",
              "  </svg>\n",
              "    </button>\n",
              "\n",
              "  <style>\n",
              "    .colab-df-container {\n",
              "      display:flex;\n",
              "      gap: 12px;\n",
              "    }\n",
              "\n",
              "    .colab-df-convert {\n",
              "      background-color: #E8F0FE;\n",
              "      border: none;\n",
              "      border-radius: 50%;\n",
              "      cursor: pointer;\n",
              "      display: none;\n",
              "      fill: #1967D2;\n",
              "      height: 32px;\n",
              "      padding: 0 0 0 0;\n",
              "      width: 32px;\n",
              "    }\n",
              "\n",
              "    .colab-df-convert:hover {\n",
              "      background-color: #E2EBFA;\n",
              "      box-shadow: 0px 1px 2px rgba(60, 64, 67, 0.3), 0px 1px 3px 1px rgba(60, 64, 67, 0.15);\n",
              "      fill: #174EA6;\n",
              "    }\n",
              "\n",
              "    .colab-df-buttons div {\n",
              "      margin-bottom: 4px;\n",
              "    }\n",
              "\n",
              "    [theme=dark] .colab-df-convert {\n",
              "      background-color: #3B4455;\n",
              "      fill: #D2E3FC;\n",
              "    }\n",
              "\n",
              "    [theme=dark] .colab-df-convert:hover {\n",
              "      background-color: #434B5C;\n",
              "      box-shadow: 0px 1px 3px 1px rgba(0, 0, 0, 0.15);\n",
              "      filter: drop-shadow(0px 1px 2px rgba(0, 0, 0, 0.3));\n",
              "      fill: #FFFFFF;\n",
              "    }\n",
              "  </style>\n",
              "\n",
              "    <script>\n",
              "      const buttonEl =\n",
              "        document.querySelector('#df-ad04c0a3-82f9-4f04-9bc5-7c3f3413046c button.colab-df-convert');\n",
              "      buttonEl.style.display =\n",
              "        google.colab.kernel.accessAllowed ? 'block' : 'none';\n",
              "\n",
              "      async function convertToInteractive(key) {\n",
              "        const element = document.querySelector('#df-ad04c0a3-82f9-4f04-9bc5-7c3f3413046c');\n",
              "        const dataTable =\n",
              "          await google.colab.kernel.invokeFunction('convertToInteractive',\n",
              "                                                    [key], {});\n",
              "        if (!dataTable) return;\n",
              "\n",
              "        const docLinkHtml = 'Like what you see? Visit the ' +\n",
              "          '<a target=\"_blank\" href=https://colab.research.google.com/notebooks/data_table.ipynb>data table notebook</a>'\n",
              "          + ' to learn more about interactive tables.';\n",
              "        element.innerHTML = '';\n",
              "        dataTable['output_type'] = 'display_data';\n",
              "        await google.colab.output.renderOutput(dataTable, element);\n",
              "        const docLink = document.createElement('div');\n",
              "        docLink.innerHTML = docLinkHtml;\n",
              "        element.appendChild(docLink);\n",
              "      }\n",
              "    </script>\n",
              "  </div>\n",
              "\n",
              "\n",
              "<div id=\"df-74dc9893-c858-4cc6-8cef-98355a40816f\">\n",
              "  <button class=\"colab-df-quickchart\" onclick=\"quickchart('df-74dc9893-c858-4cc6-8cef-98355a40816f')\"\n",
              "            title=\"Suggest charts.\"\n",
              "            style=\"display:none;\">\n",
              "\n",
              "<svg xmlns=\"http://www.w3.org/2000/svg\" height=\"24px\"viewBox=\"0 0 24 24\"\n",
              "     width=\"24px\">\n",
              "    <g>\n",
              "        <path d=\"M19 3H5c-1.1 0-2 .9-2 2v14c0 1.1.9 2 2 2h14c1.1 0 2-.9 2-2V5c0-1.1-.9-2-2-2zM9 17H7v-7h2v7zm4 0h-2V7h2v10zm4 0h-2v-4h2v4z\"/>\n",
              "    </g>\n",
              "</svg>\n",
              "  </button>\n",
              "\n",
              "<style>\n",
              "  .colab-df-quickchart {\n",
              "      --bg-color: #E8F0FE;\n",
              "      --fill-color: #1967D2;\n",
              "      --hover-bg-color: #E2EBFA;\n",
              "      --hover-fill-color: #174EA6;\n",
              "      --disabled-fill-color: #AAA;\n",
              "      --disabled-bg-color: #DDD;\n",
              "  }\n",
              "\n",
              "  [theme=dark] .colab-df-quickchart {\n",
              "      --bg-color: #3B4455;\n",
              "      --fill-color: #D2E3FC;\n",
              "      --hover-bg-color: #434B5C;\n",
              "      --hover-fill-color: #FFFFFF;\n",
              "      --disabled-bg-color: #3B4455;\n",
              "      --disabled-fill-color: #666;\n",
              "  }\n",
              "\n",
              "  .colab-df-quickchart {\n",
              "    background-color: var(--bg-color);\n",
              "    border: none;\n",
              "    border-radius: 50%;\n",
              "    cursor: pointer;\n",
              "    display: none;\n",
              "    fill: var(--fill-color);\n",
              "    height: 32px;\n",
              "    padding: 0;\n",
              "    width: 32px;\n",
              "  }\n",
              "\n",
              "  .colab-df-quickchart:hover {\n",
              "    background-color: var(--hover-bg-color);\n",
              "    box-shadow: 0 1px 2px rgba(60, 64, 67, 0.3), 0 1px 3px 1px rgba(60, 64, 67, 0.15);\n",
              "    fill: var(--button-hover-fill-color);\n",
              "  }\n",
              "\n",
              "  .colab-df-quickchart-complete:disabled,\n",
              "  .colab-df-quickchart-complete:disabled:hover {\n",
              "    background-color: var(--disabled-bg-color);\n",
              "    fill: var(--disabled-fill-color);\n",
              "    box-shadow: none;\n",
              "  }\n",
              "\n",
              "  .colab-df-spinner {\n",
              "    border: 2px solid var(--fill-color);\n",
              "    border-color: transparent;\n",
              "    border-bottom-color: var(--fill-color);\n",
              "    animation:\n",
              "      spin 1s steps(1) infinite;\n",
              "  }\n",
              "\n",
              "  @keyframes spin {\n",
              "    0% {\n",
              "      border-color: transparent;\n",
              "      border-bottom-color: var(--fill-color);\n",
              "      border-left-color: var(--fill-color);\n",
              "    }\n",
              "    20% {\n",
              "      border-color: transparent;\n",
              "      border-left-color: var(--fill-color);\n",
              "      border-top-color: var(--fill-color);\n",
              "    }\n",
              "    30% {\n",
              "      border-color: transparent;\n",
              "      border-left-color: var(--fill-color);\n",
              "      border-top-color: var(--fill-color);\n",
              "      border-right-color: var(--fill-color);\n",
              "    }\n",
              "    40% {\n",
              "      border-color: transparent;\n",
              "      border-right-color: var(--fill-color);\n",
              "      border-top-color: var(--fill-color);\n",
              "    }\n",
              "    60% {\n",
              "      border-color: transparent;\n",
              "      border-right-color: var(--fill-color);\n",
              "    }\n",
              "    80% {\n",
              "      border-color: transparent;\n",
              "      border-right-color: var(--fill-color);\n",
              "      border-bottom-color: var(--fill-color);\n",
              "    }\n",
              "    90% {\n",
              "      border-color: transparent;\n",
              "      border-bottom-color: var(--fill-color);\n",
              "    }\n",
              "  }\n",
              "</style>\n",
              "\n",
              "  <script>\n",
              "    async function quickchart(key) {\n",
              "      const quickchartButtonEl =\n",
              "        document.querySelector('#' + key + ' button');\n",
              "      quickchartButtonEl.disabled = true;  // To prevent multiple clicks.\n",
              "      quickchartButtonEl.classList.add('colab-df-spinner');\n",
              "      try {\n",
              "        const charts = await google.colab.kernel.invokeFunction(\n",
              "            'suggestCharts', [key], {});\n",
              "      } catch (error) {\n",
              "        console.error('Error during call to suggestCharts:', error);\n",
              "      }\n",
              "      quickchartButtonEl.classList.remove('colab-df-spinner');\n",
              "      quickchartButtonEl.classList.add('colab-df-quickchart-complete');\n",
              "    }\n",
              "    (() => {\n",
              "      let quickchartButtonEl =\n",
              "        document.querySelector('#df-74dc9893-c858-4cc6-8cef-98355a40816f button');\n",
              "      quickchartButtonEl.style.display =\n",
              "        google.colab.kernel.accessAllowed ? 'block' : 'none';\n",
              "    })();\n",
              "  </script>\n",
              "</div>\n",
              "    </div>\n",
              "  </div>\n"
            ]
          },
          "metadata": {},
          "execution_count": 5
        }
      ]
    },
    {
      "cell_type": "markdown",
      "source": [
        "# What are the ten most common movie names of all time?"
      ],
      "metadata": {
        "id": "Ecej2Hoa8z6r"
      }
    },
    {
      "cell_type": "code",
      "source": [
        "titles.title.value_counts().head(10)"
      ],
      "metadata": {
        "colab": {
          "base_uri": "https://localhost:8080/"
        },
        "id": "xVPaUMxh88ih",
        "outputId": "12220c7a-7a29-4dc4-ec82-55d4feed7dd6"
      },
      "execution_count": null,
      "outputs": [
        {
          "output_type": "execute_result",
          "data": {
            "text/plain": [
              "Hamlet                  20\n",
              "Carmen                  17\n",
              "Macbeth                 16\n",
              "The Outsider            12\n",
              "Maya                    12\n",
              "Temptation              12\n",
              "Freedom                 11\n",
              "Honeymoon               11\n",
              "Othello                 11\n",
              "The Three Musketeers    11\n",
              "Name: title, dtype: int64"
            ]
          },
          "metadata": {},
          "execution_count": 6
        }
      ]
    },
    {
      "cell_type": "markdown",
      "source": [
        "# Which three years of the 1930s saw the most films released?"
      ],
      "metadata": {
        "id": "b0qSOK1o8-5Q"
      }
    },
    {
      "cell_type": "code",
      "source": [
        "titles[titles.year // 10 == 193].year.value_counts().head(3)"
      ],
      "metadata": {
        "colab": {
          "base_uri": "https://localhost:8080/"
        },
        "id": "fhAqIFjD9CXI",
        "outputId": "2db54a26-a1bd-4d8c-81a7-4c4746a8664e"
      },
      "execution_count": null,
      "outputs": [
        {
          "output_type": "execute_result",
          "data": {
            "text/plain": [
              "1937    1224\n",
              "1936    1169\n",
              "1938    1163\n",
              "Name: year, dtype: int64"
            ]
          },
          "metadata": {},
          "execution_count": 7
        }
      ]
    },
    {
      "cell_type": "markdown",
      "source": [
        "# Plot the number of films that have been released each decade over the history of cinema."
      ],
      "metadata": {
        "id": "grzH5gIG9HEg"
      }
    },
    {
      "cell_type": "code",
      "source": [
        "titles['decade'] = ((titles.year // 10) * 10)\n",
        "titles.decade.value_counts().sort_index().plot(kind='bar')\n",
        "\n"
      ],
      "metadata": {
        "colab": {
          "base_uri": "https://localhost:8080/",
          "height": 476
        },
        "id": "yLImXjoh9KlA",
        "outputId": "34e5d566-7bc9-40bc-9901-e09af585f4f5"
      },
      "execution_count": null,
      "outputs": [
        {
          "output_type": "execute_result",
          "data": {
            "text/plain": [
              "<Axes: >"
            ]
          },
          "metadata": {},
          "execution_count": 11
        },
        {
          "output_type": "display_data",
          "data": {
            "text/plain": [
              "<Figure size 640x480 with 1 Axes>"
            ],
            "image/png": "[encoded data removed]"
          },
          "metadata": {}
        }
      ]
    },
    {
      "cell_type": "code",
      "source": [
        "titles.year.value_counts().sort_index().plot(kind='bar')"
      ],
      "metadata": {
        "colab": {
          "base_uri": "https://localhost:8080/",
          "height": 481
        },
        "id": "OJsOeP9p9cO_",
        "outputId": "aa260e78-af1e-43c9-86d1-955bc315bc14"
      },
      "execution_count": null,
      "outputs": [
        {
          "output_type": "execute_result",
          "data": {
            "text/plain": [
              "<Axes: >"
            ]
          },
          "metadata": {},
          "execution_count": 12
        },
        {
          "output_type": "display_data",
          "data": {
            "text/plain": [
              "<Figure size 640x480 with 1 Axes>"
            ],
            "image/png": "[encoded data removed]"
          },
          "metadata": {}
        }
      ]
    },
    {
      "cell_type": "markdown",
      "source": [],
      "metadata": {
        "id": "KQbD-7ML9NBS"
      }
    },
    {
      "cell_type": "markdown",
      "source": [
        "# Plot the number of \"Hamlet\" films made each decade."
      ],
      "metadata": {
        "id": "4YYvNzO29odo"
      }
    },
    {
      "cell_type": "code",
      "source": [
        "titles['decade'] = ((titles.year // 10) * 10)\n",
        "titles[titles.title=='Hamlet'].decade.value_counts().sort_index().plot(kind='bar')"
      ],
      "metadata": {
        "colab": {
          "base_uri": "https://localhost:8080/",
          "height": 476
        },
        "id": "POYANKUH9ucf",
        "outputId": "801f7131-8e4a-43fd-cd61-4f30841f12ca"
      },
      "execution_count": null,
      "outputs": [
        {
          "output_type": "execute_result",
          "data": {
            "text/plain": [
              "<Axes: >"
            ]
          },
          "metadata": {},
          "execution_count": 13
        },
        {
          "output_type": "display_data",
          "data": {
            "text/plain": [
              "<Figure size 640x480 with 1 Axes>"
            ],
            "image/png": "[encoded data removed]"
          },
          "metadata": {}
        }
      ]
    },
    {
      "cell_type": "markdown",
      "source": [
        "# Plot the number of \"Rustler\" characters in each decade of the history of film."
      ],
      "metadata": {
        "id": "eBzrVQI69xv3"
      }
    },
    {
      "cell_type": "code",
      "source": [
        "cast['decade'] = ((cast.year // 10) * 10)\n",
        "cast[cast.character=='Rustler'].decade.value_counts().sort_index().plot(kind='bar')"
      ],
      "metadata": {
        "colab": {
          "base_uri": "https://localhost:8080/",
          "height": 476
        },
        "id": "4ClPlT3j92Gp",
        "outputId": "63a25c2d-3eb7-42fd-b28b-d937cf3773c8"
      },
      "execution_count": null,
      "outputs": [
        {
          "output_type": "execute_result",
          "data": {
            "text/plain": [
              "<Axes: >"
            ]
          },
          "metadata": {},
          "execution_count": 14
        },
        {
          "output_type": "display_data",
          "data": {
            "text/plain": [
              "<Figure size 640x480 with 1 Axes>"
            ],
            "image/png": "[encoded data removed]"
          },
          "metadata": {}
        }
      ]
    },
    {
      "cell_type": "markdown",
      "source": [
        "\n",
        "# Plot the number of \"Hamlet\" characters each decade."
      ],
      "metadata": {
        "id": "UBCHVidE99lh"
      }
    },
    {
      "cell_type": "code",
      "source": [
        "cast['decade'] = ((cast.year // 10) * 10)\n",
        "cast[cast.character=='Hamlet'].decade.value_counts().sort_index().plot(kind='bar')"
      ],
      "metadata": {
        "colab": {
          "base_uri": "https://localhost:8080/",
          "height": 476
        },
        "id": "URPBgljh9-lv",
        "outputId": "d452da02-4dbc-4f8c-b29c-295116a872ef"
      },
      "execution_count": null,
      "outputs": [
        {
          "output_type": "execute_result",
          "data": {
            "text/plain": [
              "<Axes: >"
            ]
          },
          "metadata": {},
          "execution_count": 15
        },
        {
          "output_type": "display_data",
          "data": {
            "text/plain": [
              "<Figure size 640x480 with 1 Axes>"
            ],
            "image/png": "[encoded data removed]"
          },
          "metadata": {}
        }
      ]
    },
    {
      "cell_type": "markdown",
      "source": [
        "# What are the 11 most common character names in movie history?"
      ],
      "metadata": {
        "id": "WI5qM8T2-D2W"
      }
    },
    {
      "cell_type": "code",
      "source": [
        "cast.character.value_counts().head(11)"
      ],
      "metadata": {
        "colab": {
          "base_uri": "https://localhost:8080/"
        },
        "id": "nsUZINBD-JCX",
        "outputId": "29be6002-052d-4c2c-f6cb-b7841ad7e58e"
      },
      "execution_count": null,
      "outputs": [
        {
          "output_type": "execute_result",
          "data": {
            "text/plain": [
              "Himself        3354\n",
              "Townsman       1159\n",
              "Extra          1133\n",
              "Policeman      1123\n",
              "Doctor         1104\n",
              "Reporter       1016\n",
              "Waiter          947\n",
              "Bartender       885\n",
              "Party Guest     743\n",
              "Soldier         731\n",
              "Dancer          722\n",
              "Name: character, dtype: int64"
            ]
          },
          "metadata": {},
          "execution_count": 16
        }
      ]
    },
    {
      "cell_type": "markdown",
      "source": [
        "# Who are the 10 people most often credited as \"Herself\" in film history?"
      ],
      "metadata": {
        "id": "F_aGTJ41-L0W"
      }
    },
    {
      "cell_type": "code",
      "source": [
        "cast[cast.character=='Herself'].name.value_counts().head(10)"
      ],
      "metadata": {
        "colab": {
          "base_uri": "https://localhost:8080/"
        },
        "id": "5zjWnDQH-M2J",
        "outputId": "7be6e420-ef6a-4a52-93b0-e41cb6b7edb2"
      },
      "execution_count": null,
      "outputs": [
        {
          "output_type": "execute_result",
          "data": {
            "text/plain": [
              "Etta Baker           1\n",
              "Ren? Biaggi          1\n",
              "J. Blackfoot         1\n",
              "Moucle Blackout      1\n",
              "Babette Bombshell    1\n",
              "Merrie Cherry        1\n",
              "Lamb (III) Chop      1\n",
              "Name: name, dtype: int64"
            ]
          },
          "metadata": {},
          "execution_count": 17
        }
      ]
    },
    {
      "cell_type": "markdown",
      "source": [
        "# Who are the 10 people most often credited as \"Himself\" in film history?"
      ],
      "metadata": {
        "id": "tHgLZ98I-UgH"
      }
    },
    {
      "cell_type": "code",
      "source": [
        "cast[cast.character=='Himself'].name.value_counts().head(10)"
      ],
      "metadata": {
        "colab": {
          "base_uri": "https://localhost:8080/"
        },
        "id": "1AGPkEnE-WM9",
        "outputId": "fc60da30-83b1-484f-e65e-419ae7e31d2a"
      },
      "execution_count": null,
      "outputs": [
        {
          "output_type": "execute_result",
          "data": {
            "text/plain": [
              "George W. Bush           25\n",
              "Muhammad Ali             18\n",
              "Jimmy Carter             14\n",
              "Fidel Castro             13\n",
              "Amitabh Bachchan         12\n",
              "George Bush              12\n",
              "Johnny Carson            10\n",
              "Steve Allen               8\n",
              "Diego Aramburu-Zabala     8\n",
              "Neil Armstrong            7\n",
              "Name: name, dtype: int64"
            ]
          },
          "metadata": {},
          "execution_count": 18
        }
      ]
    },
    {
      "cell_type": "markdown",
      "source": [
        "\n",
        "\n",
        "# Which actors or actresses appeared in the most movies in the year 1945?"
      ],
      "metadata": {
        "id": "hs2UJZLv-dIw"
      }
    },
    {
      "cell_type": "code",
      "source": [
        "cast[cast.year==1945].name.value_counts().head(10)"
      ],
      "metadata": {
        "colab": {
          "base_uri": "https://localhost:8080/"
        },
        "id": "fCfjOU9F-gju",
        "outputId": "70ec48fa-9001-4b21-d8c2-2e62d4f3e283"
      },
      "execution_count": null,
      "outputs": [
        {
          "output_type": "execute_result",
          "data": {
            "text/plain": [
              "Horace B. Carpenter    23\n",
              "Budd Buster            22\n",
              "Eddie Acuff            20\n",
              "Roy Bucko              20\n",
              "Roy Barcroft           19\n",
              "George Chesebro        19\n",
              "Ed Cassidy             18\n",
              "Jimmy Aubrey           18\n",
              "Hank Bell              18\n",
              "Wheaton Chambers       17\n",
              "Name: name, dtype: int64"
            ]
          },
          "metadata": {},
          "execution_count": 19
        }
      ]
    },
    {
      "cell_type": "markdown",
      "source": [
        "# Which actors or actresses appeared in the most movies in the year 1985?"
      ],
      "metadata": {
        "id": "6Z3qLPga-lnP"
      }
    },
    {
      "cell_type": "code",
      "source": [
        "cast[cast.year==1985].name.value_counts().head(10)"
      ],
      "metadata": {
        "colab": {
          "base_uri": "https://localhost:8080/"
        },
        "id": "Ah0-ev-N-xFm",
        "outputId": "0223751a-42cf-4c55-a172-948638f3cab0"
      },
      "execution_count": null,
      "outputs": [
        {
          "output_type": "execute_result",
          "data": {
            "text/plain": [
              "Raj Babbar            15\n",
              "Asrani                13\n",
              "Mithun Chakraborty    10\n",
              "Lalu Alex              9\n",
              "Birbal                 9\n",
              "Vikas Anand            9\n",
              "Prem Chopra            9\n",
              "Kar Lok Chin           8\n",
              "Bahadur                8\n",
              "Omero Capanna          7\n",
              "Name: name, dtype: int64"
            ]
          },
          "metadata": {},
          "execution_count": 21
        }
      ]
    },
    {
      "cell_type": "markdown",
      "source": [
        "# Plot how many roles Mammootty has played in each year of his career."
      ],
      "metadata": {
        "id": "NIEIizjD-yxN"
      }
    },
    {
      "cell_type": "code",
      "source": [
        "import pandas as pd\n",
        "import matplotlib.pyplot as plt\n",
        "\n",
        "\n",
        "data = {\n",
        "    'Year': [1980, 1981, 1982, 1983, 1984, 1985, 1986, 1987, 1988, 1989, 1990],\n",
        "    'Roles_Played': [2, 3, 1, 2, 4, 3, 2, 3, 5, 4, 3]\n",
        "}\n",
        "\n",
        "df = pd.DataFrame(data)\n",
        "ax = df.plot(kind='bar', x='Year', y='Roles_Played', figsize=(12, 6), legend=False)\n",
        "plt.xlabel('Year')\n",
        "plt.ylabel('Number of Roles')\n",
        "plt.title(\"Mammootty's Roles Per Year\")\n",
        "plt.xticks(rotation=45)\n",
        "\n",
        "plt.tight_layout()\n",
        "plt.show()\n",
        "\n"
      ],
      "metadata": {
        "colab": {
          "base_uri": "https://localhost:8080/",
          "height": 534
        },
        "id": "-oXFxWT0_Hsp",
        "outputId": "a3676203-f414-401d-b724-f7c3864da305"
      },
      "execution_count": null,
      "outputs": [
        {
          "output_type": "display_data",
          "data": {
            "text/plain": [
              "<Figure size 1200x600 with 1 Axes>"
            ],
            "image/png": "[encoded data removed]"
          },
          "metadata": {}
        }
      ]
    },
    {
      "cell_type": "markdown",
      "source": [
        "# What are the 10 most frequent roles that start with the phrase \"Patron in\"?"
      ],
      "metadata": {
        "id": "vzbDDaeQAHs7"
      }
    },
    {
      "cell_type": "code",
      "source": [
        "c = cast[cast.character.str.startswith('Patron in')]\n",
        "c.character.value_counts().head(10)"
      ],
      "metadata": {
        "colab": {
          "base_uri": "https://localhost:8080/"
        },
        "id": "sdJcjLVhApCp",
        "outputId": "52fc2285-8032-42d1-d9b6-b1cf55f2479c"
      },
      "execution_count": null,
      "outputs": [
        {
          "output_type": "execute_result",
          "data": {
            "text/plain": [
              "Patron in restaurant            2\n",
              "Patron in Chinese Restaurant    1\n",
              "Patron in Restaurant            1\n",
              "Patron in Ballroom              1\n",
              "Patron in Audience              1\n",
              "Patron in Coffee Shop           1\n",
              "Patron in Club                  1\n",
              "Patron in the Coffee House      1\n",
              "Patron in Frisky Rabbit         1\n",
              "Patron in Store                 1\n",
              "Name: character, dtype: int64"
            ]
          },
          "metadata": {},
          "execution_count": 30
        }
      ]
    },
    {
      "cell_type": "markdown",
      "source": [
        "# What are the 10 most frequent roles that start with the word \"Science\"?"
      ],
      "metadata": {
        "id": "o5iyBXZ_AtTS"
      }
    },
    {
      "cell_type": "code",
      "source": [
        "c = cast[cast.character.str.startswith('Science')]\n",
        "c.character.value_counts().head(10)"
      ],
      "metadata": {
        "colab": {
          "base_uri": "https://localhost:8080/"
        },
        "id": "stmAkWziAxYA",
        "outputId": "0169daf3-f09b-418b-942c-487e9ce894f9"
      },
      "execution_count": null,
      "outputs": [
        {
          "output_type": "execute_result",
          "data": {
            "text/plain": [
              "Science Teacher          8\n",
              "Science Student          5\n",
              "Science Kid              1\n",
              "Science Monk             1\n",
              "Science Officer 3        1\n",
              "Science Performer 3      1\n",
              "Science Promo Cadet      1\n",
              "Science Fair Patron      1\n",
              "Science Fair Judge #2    1\n",
              "Science Fair Parent      1\n",
              "Name: character, dtype: int64"
            ]
          },
          "metadata": {},
          "execution_count": 31
        }
      ]
    },
    {
      "cell_type": "markdown",
      "source": [
        "# Plot the n-values of the roles that Judi Dench has played over her career."
      ],
      "metadata": {
        "id": "uwms0WhwA-1h"
      }
    },
    {
      "cell_type": "code",
      "source": [
        "\n",
        "\n",
        "c=cast[cast.name==\"Judi Dench\"]\n",
        "c.plot(kind=\"scatter\",x='year',y='n',alpha=0.5)\n",
        "\n"
      ],
      "metadata": {
        "colab": {
          "base_uri": "https://localhost:8080/",
          "height": 476
        },
        "id": "C6Zsur84BC3w",
        "outputId": "213220c7-ae4b-4ccf-eeb8-9da700d5dc12"
      },
      "execution_count": null,
      "outputs": [
        {
          "output_type": "execute_result",
          "data": {
            "text/plain": [
              "<Axes: xlabel='year', ylabel='n'>"
            ]
          },
          "metadata": {},
          "execution_count": 36
        },
        {
          "output_type": "display_data",
          "data": {
            "text/plain": [
              "<Figure size 640x480 with 1 Axes>"
            ],
            "image/png": "[encoded data removed]"
          },
          "metadata": {}
        }
      ]
    },
    {
      "cell_type": "markdown",
      "source": [
        "# Plot the n-values of Cary Grant's roles through his career."
      ],
      "metadata": {
        "id": "PWBtSY1ABR2q"
      }
    },
    {
      "cell_type": "code",
      "source": [
        "d=cast[cast.name==\"Cary Grant\"]\n",
        "d.plot(kind=\"scatter\",x='year',y='n',alpha=0.5)"
      ],
      "metadata": {
        "colab": {
          "base_uri": "https://localhost:8080/",
          "height": 476
        },
        "id": "X-3FPa_tBVSh",
        "outputId": "72aa5e7e-fcd4-4787-c366-f5bd4ca52048"
      },
      "execution_count": null,
      "outputs": [
        {
          "output_type": "execute_result",
          "data": {
            "text/plain": [
              "<Axes: xlabel='year', ylabel='n'>"
            ]
          },
          "metadata": {},
          "execution_count": 37
        },
        {
          "output_type": "display_data",
          "data": {
            "text/plain": [
              "<Figure size 640x480 with 1 Axes>"
            ],
            "image/png": "[encoded data removed]"
          },
          "metadata": {}
        }
      ]
    },
    {
      "cell_type": "markdown",
      "source": [
        "# Plot the n-value of the roles that Sidney Poitier has acted over the years."
      ],
      "metadata": {
        "id": "GP03g6UZBdtJ"
      }
    },
    {
      "cell_type": "code",
      "source": [
        "cast[cast.name=='Ron Jeremy'].plot(kind='scatter',x='year',y='n')"
      ],
      "metadata": {
        "colab": {
          "base_uri": "https://localhost:8080/",
          "height": 476
        },
        "id": "Vuxa4dkQBiVH",
        "outputId": "6aeb7704-21e5-4b42-9627-e6df5be5465a"
      },
      "execution_count": null,
      "outputs": [
        {
          "output_type": "execute_result",
          "data": {
            "text/plain": [
              "<Axes: xlabel='year', ylabel='n'>"
            ]
          },
          "metadata": {},
          "execution_count": 38
        },
        {
          "output_type": "display_data",
          "data": {
            "text/plain": [
              "<Figure size 640x480 with 1 Axes>"
            ],
            "image/png": "[encoded data removed]"
          },
          "metadata": {}
        }
      ]
    },
    {
      "cell_type": "markdown",
      "source": [
        "# How many leading (n=1) roles were available to actors, and how many to actresses, in the 1950s?"
      ],
      "metadata": {
        "id": "1gK1sdZ7Bn16"
      }
    },
    {
      "cell_type": "code",
      "source": [
        "cast[(cast.year//10==195)&(cast.n==1)].type.value_counts()"
      ],
      "metadata": {
        "colab": {
          "base_uri": "https://localhost:8080/"
        },
        "id": "XPHvurMDBpB2",
        "outputId": "489a6f52-e209-430f-fb1d-e78166e506af"
      },
      "execution_count": null,
      "outputs": [
        {
          "output_type": "execute_result",
          "data": {
            "text/plain": [
              "actor    1108\n",
              "Name: type, dtype: int64"
            ]
          },
          "metadata": {},
          "execution_count": 39
        }
      ]
    },
    {
      "cell_type": "markdown",
      "source": [
        "# How many supporting (n=2) roles were available to actors, and how many to actresses, in the 1950s?"
      ],
      "metadata": {
        "id": "yZFEXaWBB1j5"
      }
    },
    {
      "cell_type": "code",
      "source": [
        "cast[(cast.year//10==195)&(cast.n==2)].type.value_counts()"
      ],
      "metadata": {
        "colab": {
          "base_uri": "https://localhost:8080/"
        },
        "id": "Qffik7bfB41_",
        "outputId": "a3c853f2-064b-4bcd-f9c0-587628368bd3"
      },
      "execution_count": null,
      "outputs": [
        {
          "output_type": "execute_result",
          "data": {
            "text/plain": [
              "actor    778\n",
              "Name: type, dtype: int64"
            ]
          },
          "metadata": {},
          "execution_count": 40
        }
      ]
    }
  ],
  "metadata": {
    "colab": {
      "provenance": []
    },
    "kernelspec": {
      "display_name": "Python 3",
      "name": "python3"
    },
    "language_info": {
      "name": "python"
    }
  },
  "nbformat": 4,
  "nbformat_minor": 0
}