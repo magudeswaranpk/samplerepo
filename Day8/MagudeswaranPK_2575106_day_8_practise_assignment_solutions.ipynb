{
  "nbformat": 4,
  "nbformat_minor": 0,
  "metadata": {
    "colab": {
      "provenance": []
    },
    "kernelspec": {
      "name": "python3",
      "display_name": "Python 3"
    },
    "language_info": {
      "name": "python"
    }
  },
  "cells": [
    {
      "cell_type": "markdown",
      "source": [],
      "metadata": {
        "id": "4i6wLcwp1YSy"
      }
    },
    {
      "cell_type": "markdown",
      "source": [
        "# 3. Write a Python program for sorting a list of elements using selection sort algorithm:\n",
        "\n",
        "a. Assume two lists: Sorted list- Initially empty and Unsorted List-Given input list.\n",
        "\n",
        "b. In the first iteration, find the smallest element in the unsorted list and place it in the sorted list.\n",
        "\n",
        "c. In the second iteration, find the smallest element in the unsorted list and place it in the correct position by comparing with the element in the sorted list.\n",
        "\n",
        "d. In the third iteration, again find the smallest element in the unsorted list and place it in the correct position by comparing with the elements in the sorted list.\n",
        "\n",
        "e. This process continues till the unsorted list becomes empty.\n",
        "\n",
        "f. Display the sorted list."
      ],
      "metadata": {
        "id": "cBBQZ5-s1Za6"
      }
    },
    {
      "cell_type": "code",
      "source": [
        "def selection_sort(input_list):\n",
        "    sorted_list = []\n",
        "\n",
        "    while input_list:\n",
        "        min_element = min(input_list)\n",
        "        sorted_list.append(min_element)\n",
        "        input_list.remove(min_element)\n",
        "\n",
        "    return sorted_list\n",
        "\n",
        "num_elements = int(input(\"Enter the number of elements: \"))\n",
        "\n",
        "input_list = []\n",
        "\n",
        "for i in range(num_elements):\n",
        "    element = int(input(f\"Enter element {i + 1}: \"))\n",
        "    input_list.append(element)\n",
        "\n",
        "sorted_result = selection_sort(input_list)\n",
        "\n",
        "print(\"Sorted List:\", sorted_result)"
      ],
      "metadata": {
        "colab": {
          "base_uri": "https://localhost:8080/"
        },
        "id": "EnRg7PKE1wcT",
        "outputId": "b6ac5c1f-bbca-43d4-966b-9fa6f995dcc9"
      },
      "execution_count": null,
      "outputs": [
        {
          "output_type": "stream",
          "name": "stdout",
          "text": [
            "Enter the number of elements: 6\n",
            "Enter element 1: 10\n",
            "Enter element 2: 6\n",
            "Enter element 3: 90\n",
            "Enter element 4: 22\n",
            "Enter element 5: 78\n",
            "Enter element 6: 43\n",
            "Sorted List: [6, 10, 22, 43, 78, 90]\n"
          ]
        }
      ]
    },
    {
      "cell_type": "markdown",
      "source": [
        "# 4.Write a Python program for sorting a list of elements using insertion sort algorithm:\n",
        "\n",
        "a. Assume two lists: Sorted list- Initially empty and Unsorted List-Given input list.\n",
        "\n",
        "b. In the first iteration, take the first element in the unsorted list and insert it in Sorted list.\n",
        "\n",
        "c. In the second iteration, take the second element in the given list and compare with the element in the sorted sub list and place it in the correct position.\n",
        "\n",
        "d. In the third iteration, take the third element in the given list and compare with the elements in the sorted sub list and place the elements in the correct position.\n",
        "\n",
        "e. This process continues until the last element is inserted in the sorted sub list.\n",
        "\n",
        "f. Display the sorted elements."
      ],
      "metadata": {
        "id": "_a4ZCE632H8y"
      }
    },
    {
      "cell_type": "code",
      "source": [
        "def insertion_sort(input_list):\n",
        "    for i in range(1, len(input_list)):\n",
        "        current_element = input_list[i]\n",
        "        j = i - 1\n",
        "\n",
        "        while j >= 0 and current_element < input_list[j]:\n",
        "            input_list[j + 1] = input_list[j]\n",
        "            j -= 1\n",
        "\n",
        "        input_list[j + 1] = current_element\n",
        "\n",
        "num_elements = int(input(\"Enter the number of elements: \"))\n",
        "\n",
        "input_list = []\n",
        "\n",
        "for i in range(num_elements):\n",
        "    element = int(input(f\"Enter element {i + 1}: \"))\n",
        "    input_list.append(element)\n",
        "\n",
        "insertion_sort(input_list)\n",
        "print(\"Sorted List:\", input_list)"
      ],
      "metadata": {
        "colab": {
          "base_uri": "https://localhost:8080/"
        },
        "id": "LCycX5xH2MH0",
        "outputId": "18dacc9e-f8e0-4c61-f079-a80f18923603"
      },
      "execution_count": null,
      "outputs": [
        {
          "output_type": "stream",
          "name": "stdout",
          "text": [
            "Enter the number of elements: 4\n",
            "Enter element 1: 67\n",
            "Enter element 2: 66\n",
            "Enter element 3: 8\n",
            "Enter element 4: 44\n",
            "Sorted List: [8, 44, 66, 67]\n"
          ]
        }
      ]
    },
    {
      "cell_type": "markdown",
      "source": [
        "# 5. Write a Python program that performs merge sort on a list of numbers:\n",
        "\n",
        "    a. Divide: If the given array has zero or one element, return.\n",
        "\n",
        "    1. Otherwise\n",
        "\n",
        "ii. Divide the input list in to two halves each containing half of the elements. i.e. left half and right half.\n",
        "\n",
        "b. Conquer: Recursively sort the two lists (left half and right half).\n",
        "\n",
        "    a. Call the merge sort on left half.\n",
        "\n",
        "    b. Call the merge sort on right half.\n",
        "\n",
        "C. Combine: Combine the elements back in the input list by merging the two sorted lists into a sorted sequence."
      ],
      "metadata": {
        "id": "vGj4po-E2rcQ"
      }
    },
    {
      "cell_type": "code",
      "source": [
        "def merge_sort(input_list):\n",
        "    if len(input_list) <= 1:\n",
        "        return\n",
        "\n",
        "    mid = len(input_list) // 2\n",
        "    left_half = input_list[:mid]\n",
        "    right_half = input_list[mid:]\n",
        "\n",
        "    merge_sort(left_half)\n",
        "    merge_sort(right_half)\n",
        "\n",
        "    merge(input_list, left_half, right_half)\n",
        "\n",
        "def merge(input_list, left_half, right_half):\n",
        "    i = j = k = 0\n",
        "\n",
        "    while i < len(left_half) and j < len(right_half):\n",
        "        if left_half[i] < right_half[j]:\n",
        "            input_list[k] = left_half[i]\n",
        "            i += 1\n",
        "        else:\n",
        "            input_list[k] = right_half[j]\n",
        "            j += 1\n",
        "        k += 1\n",
        "\n",
        "    while i < len(left_half):\n",
        "        input_list[k] = left_half[i]\n",
        "        i += 1\n",
        "        k += 1\n",
        "\n",
        "    while j < len(right_half):\n",
        "        input_list[k] = right_half[j]\n",
        "        j += 1\n",
        "        k += 1\n",
        "\n",
        "num_elements = int(input(\"Enter the number of elements: \"))\n",
        "\n",
        "input_list = []\n",
        "\n",
        "for i in range(num_elements):\n",
        "    element = int(input(f\"Enter element {i + 1}: \"))\n",
        "    input_list.append(element)\n",
        "\n",
        "merge_sort(input_list)\n",
        "print(\"Sorted List:\", input_list)\n"
      ],
      "metadata": {
        "colab": {
          "base_uri": "https://localhost:8080/"
        },
        "id": "U2TOhTIl2_mn",
        "outputId": "cf0408f4-c028-4869-a036-47ec10a63895"
      },
      "execution_count": null,
      "outputs": [
        {
          "output_type": "stream",
          "name": "stdout",
          "text": [
            "Enter the number of elements: 3\n",
            "Enter element 1: 78\n",
            "Enter element 2: 43\n",
            "Enter element 3: 7\n",
            "Sorted List: [7, 43, 78]\n"
          ]
        }
      ]
    }
  ]
}