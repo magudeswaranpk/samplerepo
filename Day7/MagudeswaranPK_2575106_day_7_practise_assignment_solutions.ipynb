{
  "nbformat": 4,
  "nbformat_minor": 0,
  "metadata": {
    "colab": {
      "provenance": []
    },
    "kernelspec": {
      "name": "python3",
      "display_name": "Python 3"
    },
    "language_info": {
      "name": "python"
    }
  },
  "cells": [
    {
      "cell_type": "markdown",
      "source": [],
      "metadata": {
        "id": "fYuXl58ZrXLh"
      }
    },
    {
      "cell_type": "markdown",
      "source": [
        "# 1. Write a Python program to find a target values in a list using linear search with following steps:\n",
        "\n",
        "a. Initialize the list to store the input elements.\n",
        "\n",
        "b. Initialize found-False.\n",
        "\n",
        "c. Enter the item to be searched (match_item).\n",
        "\n",
        "d. For each element in the list\n",
        "\n",
        "    1. if match item = value\n",
        "\n",
        "    a. return match item's position.\n",
        "\n",
        "e. If the match item is not in the list, display an error message that the item is not found in the list."
      ],
      "metadata": {
        "id": "vtmqUNByrYLi"
      }
    },
    {
      "cell_type": "code",
      "source": [
        "def linear_search(input_list, match_item):\n",
        "    found = False\n",
        "\n",
        "    for index, value in enumerate(input_list):\n",
        "        if value == match_item:\n",
        "            found = True\n",
        "            return f\"{match_item} found at position {index + 1}\"\n",
        "\n",
        "    if not found:\n",
        "        return f\"{match_item} not found in the list\"\n",
        "\n",
        "input_list = [10, 25, 5, 15, 30, 20]\n",
        "match_item = int(input(\"Enter the item to search for: \"))\n",
        "\n",
        "result = linear_search(input_list, match_item)\n",
        "print(result)\n"
      ],
      "metadata": {
        "colab": {
          "base_uri": "https://localhost:8080/"
        },
        "id": "QZ6Rqi5crwjU",
        "outputId": "a3bc0272-3b4b-44a6-9ade-3457a9ba95ee"
      },
      "execution_count": null,
      "outputs": [
        {
          "output_type": "stream",
          "name": "stdout",
          "text": [
            "Enter the item to search for: 5\n",
            "5 found at position 3\n"
          ]
        }
      ]
    },
    {
      "cell_type": "markdown",
      "source": [
        "# 2. Write a Python program to implement binary search to find the target values from the list:\n",
        "\n",
        "a. Create a separate function to do binary search.\n",
        "\n",
        "b. Get the number of inputs from the user.\n",
        "\n",
        "c. Store the inputs individually in a list.\n",
        "\n",
        "d. In binary search function at first sort the list in order to start the search from middle of the list.\n",
        "\n",
        "e. Compare the middle element to right and left elements to search target element.\n",
        "\n",
        "f. If greater, move to right of list or else move to another side of the list.\n",
        "\n",
        "g. Print the result along with the position of the element."
      ],
      "metadata": {
        "id": "qLhDWKwrsAdZ"
      }
    },
    {
      "cell_type": "code",
      "source": [
        "def binary_search(arr, target):\n",
        "    arr.sort()\n",
        "    left = 0\n",
        "    right = len(arr) - 1\n",
        "\n",
        "    while left <= right:\n",
        "        mid = (left + right) // 2\n",
        "\n",
        "        if arr[mid] == target:\n",
        "            return f\"{target} found at position {mid + 1}\"\n",
        "        elif arr[mid] < target:\n",
        "            left = mid + 1\n",
        "        else:\n",
        "            right = mid - 1\n",
        "\n",
        "    return f\"{target} not found in the list\"\n",
        "\n",
        "num_inputs = int(input(\"Enter the number of elements: \"))\n",
        "\n",
        "input_list = []\n",
        "for i in range(num_inputs):\n",
        "    element = int(input(f\"Enter element {i + 1}: \"))\n",
        "    input_list.append(element)\n",
        "\n",
        "target_value = int(input(\"Enter the target value to search for: \"))\n",
        "\n",
        "result = binary_search(input_list, target_value)\n",
        "print(result)\n"
      ],
      "metadata": {
        "colab": {
          "base_uri": "https://localhost:8080/"
        },
        "id": "cR8YhQfGsK2s",
        "outputId": "6c1811e0-c133-4e94-c0f9-d460b4d8ee45"
      },
      "execution_count": null,
      "outputs": [
        {
          "output_type": "stream",
          "name": "stdout",
          "text": [
            "Enter the number of elements: 4\n",
            "Enter element 1: 11\n",
            "Enter element 2: 22\n",
            "Enter element 3: 33\n",
            "Enter element 4: 44\n",
            "Enter the target value to search for: 22\n",
            "22 found at position 2\n"
          ]
        }
      ]
    },
    {
      "cell_type": "markdown",
      "source": [
        "# 6. Write a Python script to perform the following operations on a singly linked list\n",
        "\n",
        "a. Create a list\n",
        "\n",
        "b. Find the smallest element from the list\n",
        "\n",
        "C. Insert an element if it is not a duplicate element\n",
        "\n",
        "d. Display the elements in reverse order\n"
      ],
      "metadata": {
        "id": "Ei9xNKjVsZrQ"
      }
    },
    {
      "cell_type": "code",
      "source": [
        "class Node:\n",
        "    def __init__(self, data):\n",
        "        self.data = data\n",
        "        self.next = None\n",
        "\n",
        "class LinkedList:\n",
        "    def __init__(self):\n",
        "        self.head = None\n",
        "\n",
        "    def insert(self, data):\n",
        "        new_node = Node(data)\n",
        "        if self.head is None:\n",
        "            self.head = new_node\n",
        "        else:\n",
        "            current = self.head\n",
        "            while current.next:\n",
        "                current = current.next\n",
        "            current.next = new_node\n",
        "\n",
        "    def find_smallest(self):\n",
        "        if self.head is None:\n",
        "            return None\n",
        "        current = self.head\n",
        "        smallest = current.data\n",
        "        while current:\n",
        "            if current.data < smallest:\n",
        "                smallest = current.data\n",
        "            current = current.next\n",
        "        return smallest\n",
        "\n",
        "    def insert_unique(self, data):\n",
        "        current = self.head\n",
        "        while current:\n",
        "            if current.data == data:\n",
        "                print(f\"{data} is a duplicate element and will not be inserted.\")\n",
        "                return\n",
        "            current = current.next\n",
        "        self.insert(data)\n",
        "\n",
        "    def display_reverse(self):\n",
        "        if self.head is None:\n",
        "            print(\"The list is empty.\")\n",
        "            return\n",
        "        stack = []\n",
        "        current = self.head\n",
        "        while current:\n",
        "            stack.append(current.data)\n",
        "            current = current.next\n",
        "        while stack:\n",
        "            print(stack.pop(), end=\" -> \")\n",
        "        print(\"None\")\n",
        "\n",
        "my_list = LinkedList()\n",
        "\n",
        "my_list.insert(10)\n",
        "my_list.insert(5)\n",
        "my_list.insert(15)\n",
        "my_list.insert(2)\n",
        "my_list.insert(8)\n",
        "\n",
        "smallest_element = my_list.find_smallest()\n",
        "print(f\"The smallest element in the list is: {smallest_element}\")\n",
        "\n",
        "my_list.insert_unique(5)\n",
        "my_list.insert_unique(20)\n",
        "\n",
        "print(\"Elements in reverse order:\")\n",
        "my_list.display_reverse()\n"
      ],
      "metadata": {
        "colab": {
          "base_uri": "https://localhost:8080/"
        },
        "id": "2HzPJAy4snYR",
        "outputId": "b6a021f5-0a81-4e51-cc38-fc2f9e889e4c"
      },
      "execution_count": null,
      "outputs": [
        {
          "output_type": "stream",
          "name": "stdout",
          "text": [
            "The smallest element in the list is: 2\n",
            "5 is a duplicate element and will not be inserted.\n",
            "Elements in reverse order:\n",
            "20 -> 8 -> 2 -> 15 -> 5 -> 10 -> None\n"
          ]
        }
      ]
    },
    {
      "cell_type": "markdown",
      "source": [
        "# 7.Write a python program to implement the various operations for Stack ADT i.) Push ii.) Pop iii.) Display."
      ],
      "metadata": {
        "id": "CfFOLT5rsuzP"
      }
    },
    {
      "cell_type": "code",
      "source": [
        "class Stack:\n",
        "    def __init__(self):\n",
        "        self.items = []\n",
        "\n",
        "    def push(self, item):\n",
        "        self.items.append(item)\n",
        "\n",
        "    def pop(self):\n",
        "        if not self.is_empty():\n",
        "            return self.items.pop()\n",
        "        else:\n",
        "            print(\"Stack is empty. Cannot pop.\")\n",
        "            return None\n",
        "\n",
        "    def display(self):\n",
        "        if not self.is_empty():\n",
        "            print(\"Stack elements:\")\n",
        "            for item in reversed(self.items):\n",
        "                print(item)\n",
        "        else:\n",
        "            print(\"Stack is empty.\")\n",
        "\n",
        "    def is_empty(self):\n",
        "        return len(self.items) == 0\n",
        "\n",
        "my_stack = Stack()\n",
        "\n",
        "my_stack.push(10)\n",
        "my_stack.push(20)\n",
        "my_stack.push(30)\n",
        "my_stack.push(40)\n",
        "\n",
        "my_stack.display()\n",
        "\n",
        "popped_item = my_stack.pop()\n",
        "if popped_item is not None:\n",
        "    print(f\"Popped item: {popped_item}\")\n",
        "\n",
        "my_stack.display()"
      ],
      "metadata": {
        "colab": {
          "base_uri": "https://localhost:8080/"
        },
        "id": "ndLGJifuszuv",
        "outputId": "9b3c655f-3611-4948-cde3-85120f07719c"
      },
      "execution_count": null,
      "outputs": [
        {
          "output_type": "stream",
          "name": "stdout",
          "text": [
            "Stack elements:\n",
            "40\n",
            "30\n",
            "20\n",
            "10\n",
            "Popped item: 40\n",
            "Stack elements:\n",
            "30\n",
            "20\n",
            "10\n"
          ]
        }
      ]
    },
    {
      "cell_type": "markdown",
      "source": [
        "# 8. Write a python script to implement the various operations for Queue ADT i.) Insert ii.) Delete iii.) Display."
      ],
      "metadata": {
        "id": "8ySTF0Was_AX"
      }
    },
    {
      "cell_type": "code",
      "source": [
        "class Queue:\n",
        "    def __init__(self):\n",
        "        self.items = []\n",
        "\n",
        "    def enqueue(self, item):\n",
        "        self.items.append(item)\n",
        "\n",
        "    def dequeue(self):\n",
        "        if not self.is_empty():\n",
        "            return self.items.pop(0)\n",
        "        else:\n",
        "            print(\"Queue is empty. Cannot dequeue.\")\n",
        "            return None\n",
        "\n",
        "    def display(self):\n",
        "        if not self.is_empty():\n",
        "            print(\"Queue elements:\")\n",
        "            for item in self.items:\n",
        "                print(item)\n",
        "        else:\n",
        "            print(\"Queue is empty.\")\n",
        "\n",
        "    def is_empty(self):\n",
        "        return len(self.items) == 0\n",
        "\n",
        "my_queue = Queue()\n",
        "\n",
        "my_queue.enqueue(10)\n",
        "my_queue.enqueue(20)\n",
        "my_queue.enqueue(30)\n",
        "my_queue.enqueue(40)\n",
        "\n",
        "my_queue.display()\n",
        "\n",
        "dequeued_item = my_queue.dequeue()\n",
        "if dequeued_item is not None:\n",
        "    print(f\"Dequeued item: {dequeued_item}\")\n",
        "\n",
        "my_queue.display()\n"
      ],
      "metadata": {
        "colab": {
          "base_uri": "https://localhost:8080/"
        },
        "id": "_yrhu1yTtA-D",
        "outputId": "354bc94a-487f-450c-b64d-504d7f32f510"
      },
      "execution_count": null,
      "outputs": [
        {
          "output_type": "stream",
          "name": "stdout",
          "text": [
            "Queue elements:\n",
            "10\n",
            "20\n",
            "30\n",
            "40\n",
            "Dequeued item: 10\n",
            "Queue elements:\n",
            "20\n",
            "30\n",
            "40\n"
          ]
        }
      ]
    },
    {
      "cell_type": "markdown",
      "source": [
        "# 9. Write a program in python to convert the following infix expression to its postfix form using push and pop operations of a Stack\n",
        "\n",
        "a. A/B^C+D E-F*G\n",
        "\n",
        "b. (B^2-4AC)^(1/2) (100)"
      ],
      "metadata": {
        "id": "uo330DyktLww"
      }
    },
    {
      "cell_type": "code",
      "source": [
        "def infix_to_postfix(infix_expression):\n",
        "\n",
        "    stack = []\n",
        "    postfix_expression = \"\"\n",
        "\n",
        "    for token in infix_expression:\n",
        "        if token in [\"A\", \"B\", \"C\", \"D\", \"E\", \"F\", \"G\"]:\n",
        "            postfix_expression += token\n",
        "        elif token == \"+\" or token == \"-\":\n",
        "            while stack and stack[-1] != \"(\":\n",
        "                postfix_expression += stack.pop()\n",
        "            stack.append(token)\n",
        "        elif token == \"*\" or token == \"/\":\n",
        "            while stack and stack[-1] != \"(\" and (stack[-1] == \"*\" or stack[-1] == \"/\"):\n",
        "                postfix_expression += stack.pop()\n",
        "            stack.append(token)\n",
        "        elif token == \"(\":\n",
        "            stack.append(token)\n",
        "        elif token == \")\":\n",
        "            while stack and stack[-1] != \"(\":\n",
        "                postfix_expression += stack.pop()\n",
        "            stack.pop()\n",
        "\n",
        "    while stack:\n",
        "        postfix_expression += stack.pop()\n",
        "\n",
        "    return postfix_expression\n",
        "\n",
        "infix_expression_a = \"A/B^C+D E-F*G\"\n",
        "postfix_expression_a = infix_to_postfix(infix_expression_a)\n",
        "\n",
        "infix_expression_b = \"(B^2-4*A*C)^(1/2) (100)\"\n",
        "postfix_expression_b = infix_to_postfix(infix_expression_b)\n",
        "\n",
        "print(postfix_expression_a)\n",
        "print(postfix_expression_b)\n"
      ],
      "metadata": {
        "colab": {
          "base_uri": "https://localhost:8080/"
        },
        "id": "_amj28VqtQSJ",
        "outputId": "740d3547-00b4-4230-ef06-3681f46048b5"
      },
      "execution_count": null,
      "outputs": [
        {
          "output_type": "stream",
          "name": "stdout",
          "text": [
            "ABC/DE+FG*-\n",
            "BA*C*-/\n"
          ]
        }
      ]
    }
  ]
}