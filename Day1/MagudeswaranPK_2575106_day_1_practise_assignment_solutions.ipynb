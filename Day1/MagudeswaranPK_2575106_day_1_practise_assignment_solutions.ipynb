{
  "cells": [
    {
      "cell_type": "code",
      "execution_count": null,
      "metadata": {
        "id": "mwjcSA-Xq_73"
      },
      "outputs": [],
      "source": []
    },
    {
      "cell_type": "markdown",
      "metadata": {
        "id": "7_4OuS9Ttai9"
      },
      "source": [
        "# **1. Manipulate using a list.**\n",
        "i) To add new elements to the end of the list\n",
        "ii) To reverse elements in the list\n",
        "iii) To display the same list of elements multiple.\n",
        "iv) To concatenate two list\n",
        "v) To sort the elements in the list in ascending order."
      ]
    },
    {
      "cell_type": "code",
      "execution_count": null,
      "metadata": {
        "colab": {
          "base_uri": "https://localhost:8080/"
        },
        "id": "JWK-gqX5vRpZ",
        "outputId": "0c30bb71-1ede-4f74-d64c-41729d0860c5"
      },
      "outputs": [
        {
          "name": "stdout",
          "output_type": "stream",
          "text": [
            "list = [11, 22, 33, 44]\n"
          ]
        }
      ],
      "source": [
        "# i)\n",
        "list=[11,22,33]\n",
        "list.append(44)\n",
        "print('list =',list)"
      ]
    },
    {
      "cell_type": "code",
      "execution_count": null,
      "metadata": {
        "colab": {
          "base_uri": "https://localhost:8080/"
        },
        "id": "N_Rc9N1L3efU",
        "outputId": "12f395d2-6e24-4ab2-c0ab-961b277c88a7"
      },
      "outputs": [
        {
          "name": "stdout",
          "output_type": "stream",
          "text": [
            "reversed list [0, 2, 1]\n"
          ]
        }
      ],
      "source": [
        "# ii)\n",
        "list=[1,2,0]\n",
        "list.reverse()\n",
        "print('reversed list',list)"
      ]
    },
    {
      "cell_type": "code",
      "execution_count": null,
      "metadata": {
        "colab": {
          "base_uri": "https://localhost:8080/"
        },
        "id": "BR-CcGcP4lXn",
        "outputId": "6fee1a4b-838c-4e1b-d473-ec43258e9609"
      },
      "outputs": [
        {
          "name": "stdout",
          "output_type": "stream",
          "text": [
            "[1, 2, 11, 22, 44]\n"
          ]
        }
      ],
      "source": [
        "# iii)\n",
        "list=[1,2,11,22,44]\n",
        "print(list)"
      ]
    },
    {
      "cell_type": "code",
      "execution_count": null,
      "metadata": {
        "colab": {
          "base_uri": "https://localhost:8080/"
        },
        "id": "x_7bpVZq5DIY",
        "outputId": "c8ee34fe-24ca-4025-aaa2-7bc1a8865042"
      },
      "outputs": [
        {
          "name": "stdout",
          "output_type": "stream",
          "text": [
            "list = [1, 2, 3, 4, 5, 6]\n"
          ]
        }
      ],
      "source": [
        "# iv)\n",
        "list1 =[1,2,3]\n",
        "list2 =[4,5,6]\n",
        "result = list1+list2\n",
        "print('list =',result)"
      ]
    },
    {
      "cell_type": "code",
      "execution_count": null,
      "metadata": {
        "colab": {
          "base_uri": "https://localhost:8080/"
        },
        "id": "X2EIlWxQ7Bjj",
        "outputId": "78842095-2817-4b9c-94eb-a0c6d600c380"
      },
      "outputs": [
        {
          "name": "stdout",
          "output_type": "stream",
          "text": [
            "sorted list [1, 2, 3, 44, 100, 144, 400, 1000]\n"
          ]
        }
      ],
      "source": [
        "# v)\n",
        "list = [3,1,2,400,100,44,1000,144]\n",
        "list.sort()\n",
        "print('sorted list',list)"
      ]
    },
    {
      "cell_type": "markdown",
      "metadata": {
        "id": "AlLoMjbvtH4_"
      },
      "source": []
    },
    {
      "cell_type": "markdown",
      "metadata": {
        "id": "etmJvVsg8WoA"
      },
      "source": [
        "# 2. Write a python program to do in the tuples.\n",
        "i) Manupulating using tuples.\n",
        "ii)  To add new elements to the end of the tuples\n",
        "iii) To reverse elements in the list\n",
        "iv) To display the elements of the same tuple multiple times.\n",
        "v) To concatenate two tuples\n",
        "vi) To sort the elements in the list in ascending order."
      ]
    },
    {
      "cell_type": "code",
      "execution_count": null,
      "metadata": {
        "colab": {
          "base_uri": "https://localhost:8080/"
        },
        "id": "R1g0uDxJ-0V0",
        "outputId": "c0d6d38d-86ce-4ac7-9ea6-ba2069f24df1"
      },
      "outputs": [
        {
          "name": "stdout",
          "output_type": "stream",
          "text": [
            "i) 80\n",
            "ii)new element added (1, 44, 80, 300, 67, 1000)\n",
            "iii) reversed elements (1000, 67, 300, 80, 44, 1)\n",
            "iv) multiple times (1, 44, 80, 300, 67, 1000, 1, 44, 80, 300, 67, 1000, 1, 44, 80, 300, 67, 1000)\n",
            "v) concatenate two tuples (1, 44, 80, 300, 67, 1000, 7, 8, 9)\n",
            "vi) sorted elements [1, 44, 67, 80, 300, 1000]\n"
          ]
        }
      ],
      "source": [
        "# i)\n",
        "tuple =(1,44,80,300,67)\n",
        "print('i)',tuple[2])\n",
        "\n",
        "# ii)\n",
        "new = 1000\n",
        "tuple = tuple+(new,)\n",
        "print('ii)new element added',tuple)\n",
        "\n",
        "# iii)\n",
        "reverse = tuple[::-1]\n",
        "print('iii) reversed elements',reverse)\n",
        "\n",
        "# iv)\n",
        "repeat = 3\n",
        "multiple = tuple * repeat\n",
        "print('iv) multiple times',multiple)\n",
        "\n",
        "# v)\n",
        "tuple1 = (7,8,9)\n",
        "concatenated = tuple + tuple1\n",
        "print('v) concatenate two tuples',concatenated)\n",
        "\n",
        "# vi)\n",
        "sort =sorted(tuple)\n",
        "print('vi) sorted elements',sort)\n"
      ]
    },
    {
      "cell_type": "markdown",
      "metadata": {
        "id": "I1Ih3O0yK5BL"
      },
      "source": []
    },
    {
      "cell_type": "markdown",
      "metadata": {
        "id": "ar-n9a_FK5Ku"
      },
      "source": [
        "# 3. Write a python program to implement the following using list.\n",
        "i) Create a list with integer(minimum 10 numbers)\n",
        "ii) How to display the last number in the list\n",
        "iii) Command for displaying the values from the list[0:4]\n",
        "iv) Command for displaying the values from the list[2:]\n",
        "v)  Command for displaying the values from the list[:6]\n"
      ]
    },
    {
      "cell_type": "code",
      "execution_count": null,
      "metadata": {
        "colab": {
          "base_uri": "https://localhost:8080/"
        },
        "id": "4w2oGJyAMz6J",
        "outputId": "e5be0422-ab56-4db5-e6c7-c8ca29615480"
      },
      "outputs": [
        {
          "name": "stdout",
          "output_type": "stream",
          "text": [
            "i)integer [1, 2, 3, 4, 5, 6, 7, 8, 9, 10]\n",
            "ii)Last number in the list: 10\n",
            "iii)Values : [1, 2, 3, 4]\n",
            "iv)Values : [3, 4, 5, 6, 7, 8, 9, 10]\n",
            "v)Values : [1, 2, 3, 4, 5, 6]\n"
          ]
        }
      ],
      "source": [
        "# i)\n",
        "my_list = [1, 2, 3, 4, 5, 6, 7, 8, 9, 10]\n",
        "print('i)integer',my_list)\n",
        "\n",
        "# ii)\n",
        "last_number = my_list[-1]\n",
        "print(\"ii)Last number in the list:\", last_number)\n",
        "\n",
        "# iii)\n",
        "slice_0_to_4 = my_list[0:4]\n",
        "print(\"iii)Values :\", slice_0_to_4)\n",
        "\n",
        "# iv)\n",
        "slice_from_2 = my_list[2:]\n",
        "print(\"iv)Values :\", slice_from_2)\n",
        "\n",
        "# v)\n",
        "slice_to_6 = my_list[:6]\n",
        "print(\"v)Values :\", slice_to_6)\n"
      ]
    },
    {
      "cell_type": "markdown",
      "metadata": {
        "id": "PmqHfF6jST-8"
      },
      "source": [
        "# Writre a python program: tuple1 =(10,50,20,40,30)\n",
        "i. To display the elements 10 and 50 From Tuple1.\n",
        "ii. To display the length of a tuple1.\n",
        "iii.To find the minimum element from tuple1.\n",
        "iv. To add all elements in the tuple1.\n",
        "v. To display the same tuple1 multiple times."
      ]
    },
    {
      "cell_type": "code",
      "execution_count": null,
      "metadata": {
        "colab": {
          "base_uri": "https://localhost:8080/"
        },
        "id": "k2yVMVZWZXKJ",
        "outputId": "7e4c33fe-1c2c-4343-f1d1-086c87fc235b"
      },
      "outputs": [
        {
          "name": "stdout",
          "output_type": "stream",
          "text": [
            "Elements : 10 50\n",
            "Length of Tuple1: 5\n",
            "Minimum element : 10\n",
            "add all elements : 150\n",
            "multiplie times : (10, 50, 20, 40, 30, 10, 50, 20, 40, 30, 10, 50, 20, 40, 30)\n"
          ]
        }
      ],
      "source": [
        "\n",
        "tuple1 = (10, 50, 20, 40, 30)\n",
        "\n",
        "# i.\n",
        "print(\"Elements :\", 10,50)\n",
        "\n",
        "# ii.\n",
        "print(\"Length of Tuple1:\", len(tuple1))\n",
        "\n",
        "# iii.\n",
        "min_element = min(tuple1)\n",
        "print(\"Minimum element :\", min_element)\n",
        "\n",
        "# iv.\n",
        "add_all = sum(tuple1)\n",
        "print(\"add all elements :\", add_all)\n",
        "\n",
        "# v.\n",
        "n = 3\n",
        "tuple1_multiplied = tuple1 * n\n",
        "print(\"multiplie times :\", tuple1_multiplied)\n"
      ]
    },
    {
      "cell_type": "markdown",
      "metadata": {
        "id": "o2yXzPBcbGcO"
      },
      "source": [
        "# 5. Write a python program:\n",
        "i. To calclate the length of a string\n",
        "ii. To reverse words in a string\n",
        "iii. To display the same string multiple times\n",
        "iv. To concatenate two strings\n",
        "v. str1=\"south India\", using string slicing  to display \"India\""
      ]
    },
    {
      "cell_type": "code",
      "execution_count": null,
      "metadata": {
        "colab": {
          "base_uri": "https://localhost:8080/"
        },
        "id": "48_dtErPcWX1",
        "outputId": "d4a2a95a-429c-4d99-9f30-1a39ac581311"
      },
      "outputs": [
        {
          "name": "stdout",
          "output_type": "stream",
          "text": [
            "i. length of the string : 11\n",
            "ii. reversed string : aidnI htuos\n",
            "iii. string repeated : south Indiasouth Indiasouth India\n",
            "iv. concatenated string : south Indiais good\n",
            "v. : India\n"
          ]
        }
      ],
      "source": [
        "str1 = \"south India\"\n",
        "\n",
        "# i.\n",
        "print(\"i. length of the string :\", len(str1))\n",
        "\n",
        "# ii.\n",
        "print(\"ii. reversed string :\", str1[::-1])\n",
        "\n",
        "# iii.\n",
        "print(\"iii. string repeated :\",str1 * 3)\n",
        "\n",
        "# iv.\n",
        "str2 = \"is good\"\n",
        "print(\"iv. concatenated string :\", str1 + str2)\n",
        "\n",
        "# v.\n",
        "print(\"v. :\", str1[6:])"
      ]
    },
    {
      "cell_type": "code",
      "execution_count": null,
      "metadata": {
        "id": "X-kijyiJYsTM"
      },
      "outputs": [],
      "source": []
    },
    {
      "cell_type": "markdown",
      "metadata": {
        "id": "avU-lH4cBVi7"
      },
      "source": [
        "# 6. perform the program:\n",
        "i) Creating the Dictionary.\n",
        "ii) Accessing values and keys in the Dictionary.\n",
        "iii) Updating the dictionary using a function.\n",
        "iv) Clear and delete the dictionary values."
      ]
    },
    {
      "cell_type": "code",
      "execution_count": null,
      "metadata": {
        "colab": {
          "base_uri": "https://localhost:8080/"
        },
        "id": "e5rlOIhedJfJ",
        "outputId": "8369bb0c-9ec2-409e-bf2e-7ea596a8db8a"
      },
      "outputs": [
        {
          "name": "stdout",
          "output_type": "stream",
          "text": [
            "Ram\n",
            "30\n",
            "dict_keys(['name', 'age', 'city'])\n",
            "dict_values(['Ram', 30, 'Chennai'])\n",
            "31\n",
            "{}\n",
            "<class 'dict'>\n"
          ]
        }
      ],
      "source": [
        "# i)\n",
        "dict = {'name': 'Ram', 'age': 30, 'city': 'Chennai'}\n",
        "\n",
        "# ii)\n",
        "print(dict['name'])\n",
        "print(dict['age'])\n",
        "print(dict.keys())\n",
        "print(dict.values())\n",
        "\n",
        "# iii)\n",
        "def update_dict(dict, key, value):\n",
        "    dict[key] = value\n",
        "\n",
        "update_dict(dict, 'age', 31)\n",
        "print(dict['age'])\n",
        "\n",
        "# iv) clear the dictionary\n",
        "dict.clear()\n",
        "print(dict)\n",
        "\n",
        "# iv) Delete the dictionary\n",
        "del dict\n",
        "print(dict)\n"
      ]
    },
    {
      "cell_type": "markdown",
      "metadata": {
        "id": "bVNQrk-mhTs-"
      },
      "source": [
        "# 7. Python program to insert a number to any position in a list."
      ]
    },
    {
      "cell_type": "code",
      "execution_count": null,
      "metadata": {
        "colab": {
          "base_uri": "https://localhost:8080/"
        },
        "id": "EIGM97DSh4Q7",
        "outputId": "dd40a2e0-d45e-40e7-bc11-ca309d6d48bd"
      },
      "outputs": [
        {
          "name": "stdout",
          "output_type": "stream",
          "text": [
            "Updated List: [1, 2, 10, 3, 4, 5]\n"
          ]
        }
      ],
      "source": [
        "\n",
        "my_list = [1, 2, 3, 4, 5]\n",
        "\n",
        "\n",
        "insert = 10\n",
        "position = 2\n",
        "my_list.insert(position, insert)\n",
        "\n",
        "print(\"Updated List:\", my_list)\n",
        "\n"
      ]
    },
    {
      "cell_type": "markdown",
      "metadata": {
        "id": "vnRX-2CBj7zO"
      },
      "source": [
        "# 8. Python program to delete an element from a list by index.\n"
      ]
    },
    {
      "cell_type": "code",
      "execution_count": null,
      "metadata": {
        "colab": {
          "base_uri": "https://localhost:8080/"
        },
        "id": "666AluKQlmyX",
        "outputId": "78867bf0-32cd-4a9f-8260-b6e75f6ca081"
      },
      "outputs": [
        {
          "name": "stdout",
          "output_type": "stream",
          "text": [
            "[1, 2, 4, 5]\n"
          ]
        }
      ],
      "source": [
        "\n",
        "list = [1, 2, 3, 4, 5]\n",
        "index = 2\n",
        "\n",
        "new_list = delete_element(list, index)\n",
        "\n",
        "print(new_list)"
      ]
    },
    {
      "cell_type": "markdown",
      "metadata": {
        "id": "_1OMwacImT_1"
      },
      "source": [
        "# 9. Write a program to display a number from 1 to 100."
      ]
    },
    {
      "cell_type": "code",
      "execution_count": null,
      "metadata": {
        "colab": {
          "base_uri": "https://localhost:8080/"
        },
        "id": "T6IhliMqlVlp",
        "outputId": "f2051f2a-bb45-4abb-f42b-8ac8d95b17d2"
      },
      "outputs": [
        {
          "name": "stdout",
          "output_type": "stream",
          "text": [
            "1\n",
            "2\n",
            "3\n",
            "4\n",
            "5\n",
            "6\n",
            "7\n",
            "8\n",
            "9\n",
            "10\n",
            "11\n",
            "12\n",
            "13\n",
            "14\n",
            "15\n",
            "16\n",
            "17\n",
            "18\n",
            "19\n",
            "20\n",
            "21\n",
            "22\n",
            "23\n",
            "24\n",
            "25\n",
            "26\n",
            "27\n",
            "28\n",
            "29\n",
            "30\n",
            "31\n",
            "32\n",
            "33\n",
            "34\n",
            "35\n",
            "36\n",
            "37\n",
            "38\n",
            "39\n",
            "40\n",
            "41\n",
            "42\n",
            "43\n",
            "44\n",
            "45\n",
            "46\n",
            "47\n",
            "48\n",
            "49\n",
            "50\n",
            "51\n",
            "52\n",
            "53\n",
            "54\n",
            "55\n",
            "56\n",
            "57\n",
            "58\n",
            "59\n",
            "60\n",
            "61\n",
            "62\n",
            "63\n",
            "64\n",
            "65\n",
            "66\n",
            "67\n",
            "68\n",
            "69\n",
            "70\n",
            "71\n",
            "72\n",
            "73\n",
            "74\n",
            "75\n",
            "76\n",
            "77\n",
            "78\n",
            "79\n",
            "80\n",
            "81\n",
            "82\n",
            "83\n",
            "84\n",
            "85\n",
            "86\n",
            "87\n",
            "88\n",
            "89\n",
            "90\n",
            "91\n",
            "92\n",
            "93\n",
            "94\n",
            "95\n",
            "96\n",
            "97\n",
            "98\n",
            "99\n",
            "100\n"
          ]
        }
      ],
      "source": [
        "for number in range(1, 101):\n",
        "    print(number)\n"
      ]
    },
    {
      "cell_type": "markdown",
      "metadata": {
        "id": "4G9-by5aENAm"
      },
      "source": []
    },
    {
      "cell_type": "markdown",
      "metadata": {
        "id": "NTBKcro9EPaZ"
      },
      "source": [
        "## 10. Write a python program to find the sum of all items in a tuple."
      ]
    },
    {
      "cell_type": "code",
      "execution_count": null,
      "metadata": {
        "colab": {
          "base_uri": "https://localhost:8080/"
        },
        "id": "mf00f6zGE1w1",
        "outputId": "f3c91121-57f7-4dac-98da-672ae3290b08"
      },
      "outputs": [
        {
          "name": "stdout",
          "output_type": "stream",
          "text": [
            "Sum of tuple elements: 15\n"
          ]
        }
      ],
      "source": [
        "\n",
        "my_tuple = (1, 2, 3, 4, 5)\n",
        "\n",
        "\n",
        "total = 0\n",
        "for item in my_tuple:\n",
        "    total += item\n",
        "\n",
        "print(\"Sum of tuple elements:\", total)\n"
      ]
    },
    {
      "cell_type": "markdown",
      "metadata": {
        "id": "a1ps1HnsFkEL"
      },
      "source": [
        "# 11. Create a dictionary containing three lambda functions square, cube and square root.\n",
        "\n",
        "# i) E.g. dict = {'Square': function for squaring, 'Cube': function for cube, 'Squareroot': function for square root}\n",
        "\n",
        "# ii) Pass the values (input from the user) to the functions in the dictionary respectively.\n",
        "\n",
        "# iii) Then add the outputs of each function and print it.\n"
      ]
    },
    {
      "cell_type": "code",
      "execution_count": null,
      "metadata": {
        "colab": {
          "base_uri": "https://localhost:8080/"
        },
        "id": "_E01Q0AVGbtM",
        "outputId": "46e5573b-f9d2-47a0-9708-4bad2d0de70b"
      },
      "outputs": [
        {
          "name": "stdout",
          "output_type": "stream",
          "text": [
            "Enter a number: 2\n",
            "Square(2.0) = 4.0\n",
            "Cube(2.0) = 8.0\n",
            "Squareroot(2.0) = 1.4142135623730951\n",
            "Sum of function outputs: 13.414213562373096\n"
          ]
        }
      ],
      "source": [
        "\n",
        "functions = {\n",
        "    'Square': lambda x: x**2,\n",
        "    'Cube': lambda x: x**3,\n",
        "    'Squareroot': lambda x: x**0.5\n",
        "}\n",
        "\n",
        "\n",
        "value = float(input(\"Enter a number: \"))\n",
        "\n",
        "\n",
        "result = 0\n",
        "\n",
        "for function_name, func in functions.items():\n",
        "    output = func(value)\n",
        "    print(f\"{function_name}({value}) = {output}\")\n",
        "    result += output\n",
        "\n",
        "print(\"Sum of function outputs:\", result)\n"
      ]
    },
    {
      "cell_type": "markdown",
      "metadata": {
        "id": "vG8GL4lGHIDB"
      },
      "source": [
        "# 12. A list of words is given. Find the words from the list that have their second character in uppercase. Is = ['hello', 'Dear', 'how', 'ARe', 'You']\n"
      ]
    },
    {
      "cell_type": "code",
      "execution_count": null,
      "metadata": {
        "colab": {
          "base_uri": "https://localhost:8080/"
        },
        "id": "jOPWtvBuIEpe",
        "outputId": "243afc18-50ed-4d87-88a9-62ef15ef8cc7"
      },
      "outputs": [
        {
          "name": "stdout",
          "output_type": "stream",
          "text": [
            "Words with the second character in uppercase:\n",
            "['ARe']\n"
          ]
        }
      ],
      "source": [
        "word_list = ['hello', 'Dear', 'how', 'ARe', 'You']\n",
        "\n",
        "result_words = []\n",
        "\n",
        "for word in word_list:\n",
        "    if len(word) >= 2 and word[1].isupper():\n",
        "        result_words.append(word)\n",
        "\n",
        "print(\"Words with the second character in uppercase:\")\n",
        "print(result_words)\n"
      ]
    },
    {
      "cell_type": "markdown",
      "metadata": {
        "id": "mGHPl5shIFOI"
      },
      "source": [
        "# 13. A dictionary of names and their weights on earth is given. Find how much they will weigh on the moon. (Use map and lambda functions) Formula: wMoon = (wEarth * GMoon) / GEarth\n",
        "\n",
        "# i) # Weight of people in kg\n",
        "\n",
        "# WeightOnEarth ('John':45, \"Shelly':65, 'Marry':35)\n",
        "\n",
        "\n",
        "\n",
        "# ii) # Gravitational force on the Moon: 1.622 m/s2\n",
        "\n",
        "# GMoon = 1.622\n",
        "\n",
        "# iii) # Gravitational force on the Earth: 9.81 m/s2\n",
        "\n",
        "# GEarth = 9.81"
      ]
    },
    {
      "cell_type": "code",
      "execution_count": null,
      "metadata": {
        "colab": {
          "base_uri": "https://localhost:8080/"
        },
        "id": "2eY7ON1UIs54",
        "outputId": "23795bf1-f907-45b0-d19f-826a2e8d251d"
      },
      "outputs": [
        {
          "name": "stdout",
          "output_type": "stream",
          "text": [
            "Weight on the Moon:\n",
            "John: 7.440366972477065 kg\n",
            "Shelly: 10.747196738022426 kg\n",
            "Marry: 5.786952089704383 kg\n"
          ]
        }
      ],
      "source": [
        "\n",
        "WeightOnEarth = {'John': 45, 'Shelly': 65, 'Marry': 35}\n",
        "\n",
        "\n",
        "GMoon = 1.622\n",
        "GEarth = 9.81\n",
        "\n",
        "\n",
        "WeightOnMoon = list(map(lambda w: (w * GMoon) / GEarth, WeightOnEarth.values()))\n",
        "\n",
        "\n",
        "WeightOnMoonDict = dict(zip(WeightOnEarth.keys(), WeightOnMoon))\n",
        "\n",
        "\n",
        "print(\"Weight on the Moon:\")\n",
        "for name, weight in WeightOnMoonDict.items():\n",
        "    print(f\"{name}: {weight} kg\")\n"
      ]
    },
    {
      "cell_type": "markdown",
      "metadata": {
        "id": "U_Y8Y2wnKCy1"
      },
      "source": [
        "# Control Structures:\n",
        "1.Write a python program to find the first N prime numbers."
      ]
    },
    {
      "cell_type": "code",
      "execution_count": null,
      "metadata": {
        "colab": {
          "base_uri": "https://localhost:8080/"
        },
        "id": "5IuZ4n4EKvQc",
        "outputId": "e881d8c2-c92c-4d55-b208-0d6e99b33b00"
      },
      "outputs": [
        {
          "name": "stdout",
          "output_type": "stream",
          "text": [
            "[2, 3, 5, 7]\n"
          ]
        }
      ],
      "source": [
        "def is_prime(number):\n",
        "  if number <= 1:\n",
        "    return False\n",
        "\n",
        "  for i in range(2, number):\n",
        "    if number % i == 0:\n",
        "      return False\n",
        "\n",
        "  return True\n",
        "\n",
        "\n",
        "def find_primes(n):\n",
        "  primes = []\n",
        "  for i in range(2, n + 1):\n",
        "    if is_prime(i):\n",
        "      primes.append(i)\n",
        "\n",
        "  return primes\n",
        "\n",
        "\n",
        "print(find_primes(10))\n"
      ]
    },
    {
      "cell_type": "markdown",
      "metadata": {
        "id": "KW_AtwQvLd5A"
      },
      "source": [
        "# 2. Write the python code that calculates the salary of an employee. Prompt the user to enter the Basic Salary, HRA, TA, and DA. Add these components to calculate the Gross Salary. Also, deduct 10% of salary from the Gross Salary to be paid as tax and display gross minus tax as net salary."
      ]
    },
    {
      "cell_type": "code",
      "execution_count": null,
      "metadata": {
        "colab": {
          "base_uri": "https://localhost:8080/"
        },
        "id": "Li1DLMyRMIB3",
        "outputId": "1793e282-7207-4a24-ea41-174ca9d231a0"
      },
      "outputs": [
        {
          "name": "stdout",
          "output_type": "stream",
          "text": [
            "Enter Basic Salary: 1234\n",
            "Enter HRA: 13245\n",
            "Enter TA: 354423\n",
            "Enter DA: 214345\n",
            "Basic Salary: 1234.0\n",
            "HRA: 13245.0\n",
            "TA: 354423.0\n",
            "DA: 214345.0\n",
            "Gross Salary: 583247.0\n",
            "Tax (10% of Gross Salary): 58324.700000000004\n",
            "Net Salary: 524922.3\n"
          ]
        }
      ],
      "source": [
        "\n",
        "basic_salary = float(input(\"Enter Basic Salary: \"))\n",
        "hra = float(input(\"Enter HRA: \"))\n",
        "ta = float(input(\"Enter TA: \"))\n",
        "da = float(input(\"Enter DA: \"))\n",
        "gross_salary = basic_salary + hra + ta + da\n",
        "\n",
        "\n",
        "tax = 0.1 * gross_salary\n",
        "\n",
        "\n",
        "net_salary = gross_salary - tax\n",
        "\n",
        "\n",
        "print(f\"Basic Salary: {basic_salary}\")\n",
        "print(f\"HRA: {hra}\")\n",
        "print(f\"TA: {ta}\")\n",
        "print(f\"DA: {da}\")\n",
        "print(f\"Gross Salary: {gross_salary}\")\n",
        "print(f\"Tax (10% of Gross Salary): {tax}\")\n",
        "print(f\"Net Salary: {net_salary}\")\n"
      ]
    },
    {
      "cell_type": "markdown",
      "metadata": {
        "id": "ElVs0r_jM3eE"
      },
      "source": [
        "# 3. Write a python program to search for a string in the given list."
      ]
    },
    {
      "cell_type": "code",
      "execution_count": null,
      "metadata": {
        "colab": {
          "base_uri": "https://localhost:8080/"
        },
        "id": "JHL8lc-NNBA0",
        "outputId": "470cf826-47cd-4e95-f691-df526e0e5433"
      },
      "outputs": [
        {
          "name": "stdout",
          "output_type": "stream",
          "text": [
            "Enter a string to search for: cat\n",
            "The string 'cat' was found in the list.\n"
          ]
        }
      ],
      "source": [
        "\n",
        "my_list = ['animal', 'dog', 'cat', 'cow', 'pig']\n",
        "\n",
        "\n",
        "search_string = input(\"Enter a string to search for: \")\n",
        "\n",
        "found = False\n",
        "\n",
        "for item in my_list:\n",
        "    if search_string == item:\n",
        "        found = True\n",
        "        break\n",
        "\n",
        "if found:\n",
        "    print(f\"The string '{search_string}' was found in the list.\")\n",
        "else:\n",
        "    print(f\"The string '{search_string}' was not found in the list.\")\n"
      ]
    },
    {
      "cell_type": "markdown",
      "metadata": {
        "id": "WJBj-kLCON3S"
      },
      "source": [
        "#  4. Write a Python function that accepts a string and calculates the number of upper-case letters and lower-case letters."
      ]
    },
    {
      "cell_type": "code",
      "execution_count": null,
      "metadata": {
        "colab": {
          "base_uri": "https://localhost:8080/"
        },
        "id": "jIBptTpLOXMq",
        "outputId": "ab9a3391-f0f4-4a78-c68d-3653219e6f76"
      },
      "outputs": [
        {
          "name": "stdout",
          "output_type": "stream",
          "text": [
            "Enter a string: head\n",
            "Uppercase letters: 0\n",
            "Lowercase letters: 4\n"
          ]
        }
      ],
      "source": [
        "def count_upper_lower(string):\n",
        "\n",
        "    upper_count = 0\n",
        "    lower_count = 0\n",
        "\n",
        "\n",
        "    for char in string:\n",
        "        if char.isupper():\n",
        "            upper_count += 1\n",
        "        elif char.islower():\n",
        "            lower_count += 1\n",
        "\n",
        "    return upper_count, lower_count\n",
        "\n",
        "\n",
        "input_string = input(\"Enter a string: \")\n",
        "\n",
        "\n",
        "upper, lower = count_upper_lower(input_string)\n",
        "\n",
        "\n",
        "print(f\"Uppercase letters: {upper}\")\n",
        "print(f\"Lowercase letters: {lower}\")\n"
      ]
    },
    {
      "cell_type": "markdown",
      "metadata": {
        "id": "Pql6BaHfO2sJ"
      },
      "source": [
        "# 5. Write a program to display the sum of odd numbers and even numbers that fall between 12 and 37."
      ]
    },
    {
      "cell_type": "code",
      "execution_count": null,
      "metadata": {
        "colab": {
          "base_uri": "https://localhost:8080/"
        },
        "id": "UbugEmIaO_8F",
        "outputId": "dca58b63-9165-4ebf-d3b4-9f38ef001b28"
      },
      "outputs": [
        {
          "name": "stdout",
          "output_type": "stream",
          "text": [
            "Sum of even numbers between 12 and 37: 312\n",
            "Sum of odd numbers between 12 and 37: 325\n"
          ]
        }
      ],
      "source": [
        "sum_odd = 0\n",
        "sum_even = 0\n",
        "\n",
        "\n",
        "for num in range(12, 38):\n",
        "    if num % 2 == 0:\n",
        "        sum_even += num\n",
        "    else:\n",
        "        sum_odd += num\n",
        "\n",
        "print(f\"Sum of even numbers between 12 and 37: {sum_even}\")\n",
        "print(f\"Sum of odd numbers between 12 and 37: {sum_odd}\")\n"
      ]
    },
    {
      "cell_type": "markdown",
      "metadata": {
        "id": "o4qMYyLXPfUx"
      },
      "source": [
        "# 6. Write a python Program to print the table of any number."
      ]
    },
    {
      "cell_type": "code",
      "execution_count": null,
      "metadata": {
        "colab": {
          "base_uri": "https://localhost:8080/"
        },
        "id": "tQ5cf7vfPm73",
        "outputId": "1d222357-b789-4889-8222-2d9c0dc75c88"
      },
      "outputs": [
        {
          "name": "stdout",
          "output_type": "stream",
          "text": [
            "Enter a number: 4\n",
            "Multiplication Table for 4:\n",
            "4 x 1 = 4\n",
            "4 x 2 = 8\n",
            "4 x 3 = 12\n",
            "4 x 4 = 16\n",
            "4 x 5 = 20\n",
            "4 x 6 = 24\n",
            "4 x 7 = 28\n",
            "4 x 8 = 32\n",
            "4 x 9 = 36\n",
            "4 x 10 = 40\n"
          ]
        }
      ],
      "source": [
        "num = int(input(\"Enter a number: \"))\n",
        "\n",
        "start = 1\n",
        "end = 10\n",
        "\n",
        "print(f\"Multiplication Table for {num}:\")\n",
        "for i in range(start, end + 1):\n",
        "    result = num * i\n",
        "    print(f\"{num} x {i} = {result}\")\n"
      ]
    },
    {
      "cell_type": "markdown",
      "metadata": {
        "id": "tx7P1XxNQNQO"
      },
      "source": [
        "# 7. Write a Python program to sum the first 10 prime numbers."
      ]
    },
    {
      "cell_type": "code",
      "execution_count": null,
      "metadata": {
        "colab": {
          "base_uri": "https://localhost:8080/"
        },
        "id": "GwsvQ7dWQW55",
        "outputId": "bd63f16d-e15f-49fe-abff-5335bb032ebf"
      },
      "outputs": [
        {
          "name": "stdout",
          "output_type": "stream",
          "text": [
            "Sum of the first 10 prime numbers: 129\n"
          ]
        }
      ],
      "source": [
        "def is_prime(num):\n",
        "    if num <= 1:\n",
        "        return False\n",
        "    elif num <= 3:\n",
        "        return True\n",
        "    elif num % 2 == 0 or num % 3 == 0:\n",
        "        return False\n",
        "    i = 5\n",
        "    while i * i <= num:\n",
        "        if num % i == 0 or num % (i + 2) == 0:\n",
        "            return False\n",
        "        i += 6\n",
        "    return True\n",
        "\n",
        "count = 0\n",
        "sum_primes = 0\n",
        "number = 2\n",
        "\n",
        "while count < 10:\n",
        "    if is_prime(number):\n",
        "        sum_primes += number\n",
        "        count += 1\n",
        "    number += 1\n",
        "\n",
        "print(\"Sum of the first 10 prime numbers:\", sum_primes)\n"
      ]
    },
    {
      "cell_type": "markdown",
      "metadata": {
        "id": "Mai6uJM-Q0Au"
      },
      "source": [
        "# 8. Write a python program to implement arithmetic operations using nested if statement."
      ]
    },
    {
      "cell_type": "code",
      "execution_count": null,
      "metadata": {
        "colab": {
          "base_uri": "https://localhost:8080/"
        },
        "id": "zkrvopFRRxJD",
        "outputId": "34b4d433-d0e3-4b79-e5c9-724502557cd7"
      },
      "outputs": [
        {
          "name": "stdout",
          "output_type": "stream",
          "text": [
            "Enter the first number: 4\n",
            "Enter the second number: 4\n",
            "Enter the operation (+, -, *, /): /\n",
            "Result: 1.0\n"
          ]
        }
      ],
      "source": [
        "num1 = float(input(\"Enter the first number: \"))\n",
        "num2 = float(input(\"Enter the second number: \"))\n",
        "operation = input(\"Enter the operation (+, -, *, /): \")\n",
        "\n",
        "if operation == '+':\n",
        "    result = num1 + num2\n",
        "elif operation == '-':\n",
        "    result = num1 - num2\n",
        "elif operation == '*':\n",
        "    result = num1 * num2\n",
        "elif operation == '/':\n",
        "    if num2 != 0:\n",
        "        result = num1 / num2\n",
        "    else:\n",
        "        result = \"Division by zero is not allowed.\"\n",
        "else:\n",
        "    result = \"Invalid operation.\"\n",
        "\n",
        "print(f\"Result: {result}\")\n"
      ]
    },
    {
      "cell_type": "markdown",
      "metadata": {
        "id": "vKS_rXPrSJFm"
      },
      "source": [
        "# 9. Write a python program to take the temperature in Celsius and convert it to a Fahrenheit.\n"
      ]
    },
    {
      "cell_type": "code",
      "execution_count": null,
      "metadata": {
        "colab": {
          "base_uri": "https://localhost:8080/"
        },
        "id": "hjykelKrSk9b",
        "outputId": "2c15eecd-17a2-444c-f7d8-1f4172fa151d"
      },
      "outputs": [
        {
          "name": "stdout",
          "output_type": "stream",
          "text": [
            "Enter temperature in Celsius: 96\n",
            "celsius to Fehrenheit. 204.8\n"
          ]
        }
      ],
      "source": [
        "\n",
        "celsius = float(input(\"Enter temperature in Celsius: \"))\n",
        "\n",
        "fahrenheit = (celsius * 9/5) + 32\n",
        "\n",
        "print(f\"celsius to Fehrenheit.\",fahrenheit)\n"
      ]
    },
    {
      "cell_type": "markdown",
      "metadata": {
        "id": "qg8k4jMFTcZR"
      },
      "source": [
        "# 10. Write a python program to find a maximum and minimum number in a list without using an inbuilt function.\n"
      ]
    },
    {
      "cell_type": "code",
      "execution_count": null,
      "metadata": {
        "colab": {
          "base_uri": "https://localhost:8080/"
        },
        "id": "ALYxWK3CUZUH",
        "outputId": "ca0a8f62-0449-464e-b989-45f6d1bef1d6"
      },
      "outputs": [
        {
          "name": "stdout",
          "output_type": "stream",
          "text": [
            "The maximum number is: 10\n",
            "The minimum number is: 2\n"
          ]
        }
      ],
      "source": [
        "def find_max_min(list1):\n",
        "  max_number = list1[0]\n",
        "  min_number = list1[0]\n",
        "\n",
        "  for number in list1:\n",
        "    if number > max_number:\n",
        "      max_number = number\n",
        "    elif number < min_number:\n",
        "      min_number = number\n",
        "\n",
        "  return max_number, min_number\n",
        "\n",
        "\n",
        "list1 = [10, 4, 2, 9, 7]\n",
        "\n",
        "max_number, min_number = find_max_min(list1)\n",
        "\n",
        "print(\"The maximum number is:\", max_number)\n",
        "print(\"The minimum number is:\", min_number)\n"
      ]
    },
    {
      "cell_type": "markdown",
      "metadata": {
        "id": "J3muVT62UeBm"
      },
      "source": [
        "# 11. Write a program in python to print out the number of seconds in 30-day month 30 days, 24 hours in a day, 60 minutes per day, 60 seconds in a minute."
      ]
    },
    {
      "cell_type": "code",
      "execution_count": null,
      "metadata": {
        "colab": {
          "base_uri": "https://localhost:8080/"
        },
        "id": "Qow7rk2sU-eN",
        "outputId": "08adfefc-49ee-4708-eb36-5fdc151a08e1"
      },
      "outputs": [
        {
          "name": "stdout",
          "output_type": "stream",
          "text": [
            "The number of seconds in a 30-day month is: 2592000\n"
          ]
        }
      ],
      "source": [
        "def number_of_seconds_in_month():\n",
        "  number_of_seconds_in_day = 24 * 60 * 60\n",
        "  number_of_seconds_in_month = number_of_seconds_in_day * 30\n",
        "\n",
        "  return number_of_seconds_in_month\n",
        "\n",
        "\n",
        "print(\"The number of seconds in a 30-day month is:\", number_of_seconds_in_month())\n"
      ]
    },
    {
      "cell_type": "markdown",
      "metadata": {
        "id": "YVcl8GR7VN_N"
      },
      "source": [
        "# 12. Write a program in python to print out the number of seconds in a year."
      ]
    },
    {
      "cell_type": "code",
      "execution_count": null,
      "metadata": {
        "colab": {
          "base_uri": "https://localhost:8080/"
        },
        "id": "XHTgtpCSVhJk",
        "outputId": "5f9091d9-03ab-4596-b993-9a94ff54dfcf"
      },
      "outputs": [
        {
          "name": "stdout",
          "output_type": "stream",
          "text": [
            "Number of seconds in a year: 31536000 seconds\n"
          ]
        }
      ],
      "source": [
        "days_per_year = 365\n",
        "hours_per_day = 24\n",
        "minutes_per_hour = 60\n",
        "seconds_per_minute = 60\n",
        "\n",
        "seconds_in_a_year = days_per_year * hours_per_day * minutes_per_hour * seconds_per_minute\n",
        "\n",
        "print(f\"Number of seconds in a year: {seconds_in_a_year} seconds\")\n"
      ]
    },
    {
      "cell_type": "markdown",
      "metadata": {
        "id": "poJNBM1ZextJ"
      },
      "source": [
        "# 13. A high-speed train can travel at an average speed of 150 mph, how long will it take a train travelling at this speed to travel from London to Glasgow which is 414 miles away?"
      ]
    },
    {
      "cell_type": "code",
      "execution_count": null,
      "metadata": {
        "colab": {
          "base_uri": "https://localhost:8080/"
        },
        "id": "j_brqz2esBY3",
        "outputId": "89a83cad-cb7b-4c92-fb38-d1f3150dee42"
      },
      "outputs": [
        {
          "name": "stdout",
          "output_type": "stream",
          "text": [
            "It will take 2 hours and 45.60.\n"
          ]
        }
      ],
      "source": [
        "\n",
        "speed_mph = 150\n",
        "distance_miles = 414\n",
        "\n",
        "time_hours = distance_miles / speed_mph\n",
        "\n",
        "time_hours_integer = int(time_hours)\n",
        "time_minutes = (time_hours - time_hours_integer) * 60\n",
        "\n",
        "print(f\"It will take {time_hours_integer} hours and {time_minutes:.2f}.\")\n"
      ]
    },
    {
      "cell_type": "markdown",
      "metadata": {
        "id": "jlksUQFStpdH"
      },
      "source": [
        "# 14. Write a python program that defines a variable called days_in_each_school_year and assign 192 to the variable. The program should then print out the total hours that you spend in school from year 7 to year 11, if each day you spend 6 hours in school days_in_each_school_year = 192"
      ]
    },
    {
      "cell_type": "code",
      "execution_count": null,
      "metadata": {
        "colab": {
          "base_uri": "https://localhost:8080/"
        },
        "id": "qMs4kQAhwPZP",
        "outputId": "3540ad08-4554-40ee-b946-50bea3e66d7b"
      },
      "outputs": [
        {
          "name": "stdout",
          "output_type": "stream",
          "text": [
            "5760\n"
          ]
        }
      ],
      "source": [
        "days_in_each_school_year = 192\n",
        "\n",
        "total_hours_spent_in_school = 6 * days_in_each_school_year * 5\n",
        "\n",
        "print(total_hours_spent_in_school)\n"
      ]
    },
    {
      "cell_type": "markdown",
      "metadata": {
        "id": "GLk2e5nTwh6c"
      },
      "source": [
        "# 15. If the age of Ram,Sam and Khan are input through the keyboard, write a python program to determine the eldest and youngest of the three.\n"
      ]
    },
    {
      "cell_type": "code",
      "execution_count": null,
      "metadata": {
        "colab": {
          "base_uri": "https://localhost:8080/"
        },
        "id": "-bsH_EY-wraL",
        "outputId": "e617a265-865c-40aa-ccab-dba9b2e2a6b6"
      },
      "outputs": [
        {
          "name": "stdout",
          "output_type": "stream",
          "text": [
            "Enter the age of Ram: 52\n",
            "Enter the age of Sam: 42\n",
            "Enter the age of Khan: 80\n",
            "The eldest among Ram, Sam, and Khan is: Khan\n",
            "The youngest among Ram, Sam, and Khan is: Sam\n"
          ]
        }
      ],
      "source": [
        "\n",
        "ram_age = int(input(\"Enter the age of Ram: \"))\n",
        "sam_age = int(input(\"Enter the age of Sam: \"))\n",
        "khan_age = int(input(\"Enter the age of Khan: \"))\n",
        "\n",
        "\n",
        "if ram_age >= sam_age and ram_age >= khan_age:\n",
        "    eldest = \"Ram\"\n",
        "elif sam_age >= ram_age and sam_age >= khan_age:\n",
        "    eldest = \"Sam\"\n",
        "else:\n",
        "    eldest = \"Khan\"\n",
        "\n",
        "if ram_age <= sam_age and ram_age <= khan_age:\n",
        "    youngest = \"Ram\"\n",
        "elif sam_age <= ram_age and sam_age <= khan_age:\n",
        "    youngest = \"Sam\"\n",
        "else:\n",
        "    youngest = \"Khan\"\n",
        "\n",
        "\n",
        "print(f\"The eldest among Ram, Sam, and Khan is: {eldest}\")\n",
        "print(f\"The youngest among Ram, Sam, and Khan is: {youngest}\")\n"
      ]
    },
    {
      "cell_type": "markdown",
      "metadata": {
        "id": "ON_nbbelxgRE"
      },
      "source": [
        "# 16. Write a python program to rotate a list by right n times with and without slicing technique."
      ]
    },
    {
      "cell_type": "code",
      "execution_count": null,
      "metadata": {
        "colab": {
          "base_uri": "https://localhost:8080/"
        },
        "id": "Od8vRumLxnTD",
        "outputId": "b9c5ddd7-44fd-426b-e05d-80c7b19acaf0"
      },
      "outputs": [
        {
          "name": "stdout",
          "output_type": "stream",
          "text": [
            "Enter the number of times to rotate right: 2\n",
            "Rotated list with slicing technique: [4, 5, 1, 2, 3]\n",
            "Enter the number of times to rotate right: 2\n",
            "Rotated list without slicing technique: [4, 5, 1, 2, 3]\n"
          ]
        }
      ],
      "source": [
        "def rotate_right_with_slicing(lst, n):\n",
        "    n = n % len(lst)\n",
        "    rotated_list = lst[-n:] + lst[:-n]\n",
        "    return rotated_list\n",
        "\n",
        "original_list = [1, 2, 3, 4, 5]\n",
        "\n",
        "\n",
        "n = int(input(\"Enter the number of times to rotate right: \"))\n",
        "\n",
        "rotated_list_with_slicing = rotate_right_with_slicing(original_list, n)\n",
        "\n",
        "print(\"Rotated list with slicing technique:\", rotated_list_with_slicing)\n",
        "\n",
        "def rotate_right_without_slicing(lst, n):\n",
        "    n = n % len(lst)\n",
        "    rotated_list = [0] * len(lst)\n",
        "    for i in range(len(lst)):\n",
        "        rotated_list[(i + n) % len(lst)] = lst[i]\n",
        "    return rotated_list\n",
        "\n",
        "original_list = [1, 2, 3, 4, 5]\n",
        "\n",
        "n = int(input(\"Enter the number of times to rotate right: \"))\n",
        "\n",
        "rotated_list_without_slicing = rotate_right_without_slicing(original_list, n)\n",
        "\n",
        "print(\"Rotated list without slicing technique:\", rotated_list_without_slicing)\n",
        "\n"
      ]
    },
    {
      "cell_type": "markdown",
      "metadata": {
        "id": "MZQ3xpN1z0EX"
      },
      "source": [
        "# 17. Python program to print the patterns given below:"
      ]
    },
    {
      "cell_type": "code",
      "source": [
        "def print_pattern(n):\n",
        "  for i in range(1, n + 1):\n",
        "    num = i\n",
        "    for j in range(1, i + 1):\n",
        "      print(num, end=\"\")\n",
        "      num = num * 7 - i\n",
        "    print()\n",
        "\n",
        "\n",
        "print_pattern(6)\n",
        "\n",
        "\n",
        "n = 5\n",
        "\n",
        "for i in range(1, n + 1):\n",
        "    for j in range(i):\n",
        "        print(\"*\", end=\"\")\n",
        "    print()\n",
        "\n",
        "n = 5\n",
        "\n",
        "for i in range(1, n + 1):\n",
        "    for j in range(n - i):\n",
        "        print(\" \", end=\"\")\n",
        "\n",
        "\n",
        "    for k in range(2 * i - 1):\n",
        "        print(\"*\", end=\"\")\n",
        "\n",
        "    print()\n",
        "\n",
        "word = \"Python\"\n",
        "for i in range(1, len(word) + 1):\n",
        "    print(word[:i])\n",
        "\n"
      ],
      "metadata": {
        "colab": {
          "base_uri": "https://localhost:8080/"
        },
        "id": "vS9iHMy4ua_n",
        "outputId": "b077c59a-d50e-46a6-b70a-8a37ce2ce000"
      },
      "execution_count": null,
      "outputs": [
        {
          "output_type": "stream",
          "name": "stdout",
          "text": [
            "1\n",
            "212\n",
            "318123\n",
            "4241641144\n",
            "530205143010005\n",
            "63624617161200684036\n",
            "*\n",
            "**\n",
            "***\n",
            "****\n",
            "*****\n",
            "    *\n",
            "   ***\n",
            "  *****\n",
            " *******\n",
            "*********\n",
            "P\n",
            "Py\n",
            "Pyt\n",
            "Pyth\n",
            "Pytho\n",
            "Python\n"
          ]
        }
      ]
    }
  ],
  "metadata": {
    "colab": {
      "provenance": []
    },
    "kernelspec": {
      "display_name": "Python 3",
      "name": "python3"
    },
    "language_info": {
      "name": "python"
    }
  },
  "nbformat": 4,
  "nbformat_minor": 0
}